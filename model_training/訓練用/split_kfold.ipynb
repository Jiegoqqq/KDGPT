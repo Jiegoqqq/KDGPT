{
 "cells": [
  {
   "cell_type": "code",
   "execution_count": 1,
   "metadata": {},
   "outputs": [],
   "source": [
    "\n",
    "import pandas as pd\n",
    "import lightgbm as lgb\n",
    "from sklearn.ensemble import RandomForestClassifier\n",
    "from sklearn.model_selection import train_test_split,cross_val_score,learning_curve,KFold\n",
    "from sklearn.metrics import accuracy_score, roc_curve,f1_score\n",
    "from sklearn.feature_extraction.text import TfidfVectorizer\n",
    "from sklearn.utils import resample\n",
    "import seaborn as sns\n",
    "import matplotlib.pyplot as plt\n",
    "import numpy as np\n",
    "import re\n",
    "from learn_curving_fold import plot_learning_curves"
   ]
  },
  {
   "cell_type": "code",
   "execution_count": 3,
   "metadata": {},
   "outputs": [],
   "source": [
    "train_error = [[],[],[],[],[]]\n",
    "test_error = [[],[],[],[],[]]\n",
    "train_error_up = [[],[],[],[],[]]\n",
    "test_error_up = [[],[],[],[],[]]"
   ]
  },
  {
   "cell_type": "code",
   "execution_count": 5,
   "metadata": {},
   "outputs": [],
   "source": [
    "model = RandomForestClassifier(n_estimators=100, criterion = 'gini',random_state = 42,max_depth = 5)\n"
   ]
  },
  {
   "cell_type": "markdown",
   "metadata": {},
   "source": [
    "# fold 1\n"
   ]
  },
  {
   "cell_type": "code",
   "execution_count": 6,
   "metadata": {},
   "outputs": [
    {
     "name": "stdout",
     "output_type": "stream",
     "text": [
      "(1168, 24) (36279, 24)\n",
      "(72558, 23)\n"
     ]
    }
   ],
   "source": [
    "fold_train = pd.read_csv('models_output/1-fold_train_z.csv')\n",
    "fold_test = pd.read_csv('models_output/1-fold_test_z.csv')\n",
    "#rename\n",
    "fold_train = fold_train.rename(columns=lambda x:re.sub('[^A-Za-z0-9_]+', '', x))\n",
    "fold_test = fold_test.rename(columns = lambda x:re.sub('[^A-Za-z0-9_]+', '', x))\n",
    "# upsampling train\n",
    "one_messages_1 = fold_train[fold_train[\"Class\"] == 1 ]\n",
    "zero_messages_1 =fold_train[fold_train[\"Class\"] == 0]\n",
    "one_message_1_upsample = resample(one_messages_1,\n",
    "             replace=True,\n",
    "             n_samples=len(zero_messages_1),\n",
    "             random_state=42)\n",
    "print(one_messages_1.shape,zero_messages_1.shape)\n",
    "fold_train = pd.concat([one_message_1_upsample,zero_messages_1])\n",
    "x_1 = fold_train.drop(columns=['Class'])\n",
    "y_1 = fold_train['Class']\n",
    "\n",
    "x_1_test = fold_test.drop(columns=[\"Class\"])\n",
    "y_1_test = fold_test['Class']\n",
    "print(x_1.shape)\n",
    "\n",
    "#train_error[0],test_error[0] = plot_learning_curves(x_1,y_1,x_1_test,y_1_test,clf = model)\n",
    "#print(train_error,test_error)\n",
    "del (fold_train,fold_test)\n"
   ]
  },
  {
   "cell_type": "code",
   "execution_count": 7,
   "metadata": {},
   "outputs": [
    {
     "name": "stdout",
     "output_type": "stream",
     "text": [
      "19 19\n"
     ]
    }
   ],
   "source": [
    "rng = [int(i) for i in np.linspace(0, x_1.shape[0], 20)][1:]\n",
    "print(len(rng),len(train_error[0]))"
   ]
  },
  {
   "cell_type": "code",
   "execution_count": 9,
   "metadata": {},
   "outputs": [
    {
     "name": "stdout",
     "output_type": "stream",
     "text": [
      "(9086, 24) (9086, 24)\n",
      "[[], [], [], [], []] [[], [], [], [], []]\n"
     ]
    }
   ],
   "source": [
    "#upsampling validation\n",
    "fold_test = pd.read_csv('models_output/1-fold_test_z.csv')\n",
    "\n",
    "one_messages_1_test = fold_test[fold_test[\"Class\"] == 1 ]\n",
    "zero_messages_1_test =fold_test[fold_test[\"Class\"] == 0]\n",
    "one_message_1_test_upsample = resample(one_messages_1_test,\n",
    "             replace=True,\n",
    "             n_samples=len(zero_messages_1_test),\n",
    "             random_state=42)\n",
    "fold_test = pd.concat([one_message_1_test_upsample,zero_messages_1_test])\n",
    "x_1_test = fold_test.drop(columns=[\"Class\"])\n",
    "y_1_test = fold_test['Class']\n",
    "print(one_message_1_test_upsample.shape,zero_messages_1_test.shape)\n",
    "\n",
    "#train_error_up[0],test_error_up[0] = plot_learning_curves(x_1,y_1,x_1_test,y_1_test,clf = model)\n",
    "print(train_error_up,test_error_up)\n",
    "del (fold_test)"
   ]
  },
  {
   "cell_type": "code",
   "execution_count": 9,
   "metadata": {},
   "outputs": [
    {
     "data": {
      "text/plain": [
       "<matplotlib.legend.Legend at 0x20e0811b7c0>"
      ]
     },
     "execution_count": 9,
     "metadata": {},
     "output_type": "execute_result"
    },
    {
     "data": {
      "image/png": "[encoded data removed]",
      "text/plain": [
       "<Figure size 432x288 with 1 Axes>"
      ]
     },
     "metadata": {
      "needs_background": "light"
     },
     "output_type": "display_data"
    }
   ],
   "source": [
    "plt.plot(rng, train_error[0], color='blue', label='Training Accuracy')\n",
    "#plt.fill_between(train_sizes, train_mean + train_std, train_mean - train_std, alpha=0.15, color='blue')\n",
    "plt.plot(rng, test_error[0], color='orange',linestyle='--', label='Validation Accuracy')\n",
    "#plt.fill_between(train_sizes, test_mean + test_std, test_mean - test_std, alpha=0.15, color='green')\n",
    "plt.plot(rng, test_error_up[0], color='orange',linestyle='-', label='Validation(up) Accuracy')\n",
    "plt.title('Learning Curve')\n",
    "plt.xlabel('Training Data Size')\n",
    "plt.ylabel('Model error')\n",
    "plt.grid()\n",
    "plt.legend(loc='upper right')\n"
   ]
  },
  {
   "cell_type": "markdown",
   "metadata": {},
   "source": [
    "# fold 2"
   ]
  },
  {
   "cell_type": "code",
   "execution_count": 10,
   "metadata": {},
   "outputs": [],
   "source": [
    "fold_train = pd.read_csv('models_output/2-fold_train_z.csv')\n",
    "fold_test = pd.read_csv('models_output/2-fold_test_z.csv')\n",
    "#rename\n",
    "fold_train = fold_train.rename(columns=lambda x:re.sub('[^A-Za-z0-9_]+', '', x))\n",
    "fold_test = fold_test.rename(columns = lambda x:re.sub('[^A-Za-z0-9_]+', '', x))\n",
    "# upsampling train\n",
    "one_messages_2 = fold_train[fold_train[\"Class\"] == 1 ]\n",
    "zero_messages_2 =fold_train[fold_train[\"Class\"] == 0]\n",
    "one_message_2_upsample = resample(one_messages_2,\n",
    "             replace=True,\n",
    "             n_samples=len(zero_messages_2),\n",
    "             random_state=42)\n",
    "fold_train = pd.concat([one_message_2_upsample,zero_messages_2])\n",
    "x_2 = fold_train.drop(columns=['Class'])\n",
    "y_2 = fold_train['Class']\n",
    "\n",
    "x_2_test = fold_test.drop(columns=[\"Class\"])\n",
    "y_2_test = fold_test['Class']\n",
    "\n",
    "\n",
    "train_error[1],test_error[1] = plot_learning_curves(x_2,y_2,x_2_test,y_2_test,clf = model)\n",
    "#print(train_error,test_error)\n",
    "del (fold_train,fold_test)\n"
   ]
  },
  {
   "cell_type": "code",
   "execution_count": 11,
   "metadata": {},
   "outputs": [
    {
     "name": "stdout",
     "output_type": "stream",
     "text": [
      "19 19\n"
     ]
    }
   ],
   "source": [
    "rng = [int(i) for i in np.linspace(0, x_2.shape[0], 20)][1:]\n",
    "print(len(rng),len(train_error[0]))"
   ]
  },
  {
   "cell_type": "code",
   "execution_count": 12,
   "metadata": {},
   "outputs": [
    {
     "name": "stderr",
     "output_type": "stream",
     "text": [
      "c:\\Users\\USER\\Envs\\KD\\lib\\site-packages\\sklearn\\base.py:493: FutureWarning: The feature names should match those that were passed during fit. Starting version 1.2, an error will be raised.\n",
      "Feature names unseen at fit time:\n",
      "- Unnamed: 0\n",
      "Feature names seen at fit time, yet now missing:\n",
      "- Unnamed0\n",
      "\n",
      "  warnings.warn(message, FutureWarning)\n",
      "c:\\Users\\USER\\Envs\\KD\\lib\\site-packages\\sklearn\\base.py:493: FutureWarning: The feature names should match those that were passed during fit. Starting version 1.2, an error will be raised.\n",
      "Feature names unseen at fit time:\n",
      "- Unnamed: 0\n",
      "Feature names seen at fit time, yet now missing:\n",
      "- Unnamed0\n",
      "\n",
      "  warnings.warn(message, FutureWarning)\n",
      "c:\\Users\\USER\\Envs\\KD\\lib\\site-packages\\sklearn\\base.py:493: FutureWarning: The feature names should match those that were passed during fit. Starting version 1.2, an error will be raised.\n",
      "Feature names unseen at fit time:\n",
      "- Unnamed: 0\n",
      "Feature names seen at fit time, yet now missing:\n",
      "- Unnamed0\n",
      "\n",
      "  warnings.warn(message, FutureWarning)\n",
      "c:\\Users\\USER\\Envs\\KD\\lib\\site-packages\\sklearn\\base.py:493: FutureWarning: The feature names should match those that were passed during fit. Starting version 1.2, an error will be raised.\n",
      "Feature names unseen at fit time:\n",
      "- Unnamed: 0\n",
      "Feature names seen at fit time, yet now missing:\n",
      "- Unnamed0\n",
      "\n",
      "  warnings.warn(message, FutureWarning)\n",
      "c:\\Users\\USER\\Envs\\KD\\lib\\site-packages\\sklearn\\base.py:493: FutureWarning: The feature names should match those that were passed during fit. Starting version 1.2, an error will be raised.\n",
      "Feature names unseen at fit time:\n",
      "- Unnamed: 0\n",
      "Feature names seen at fit time, yet now missing:\n",
      "- Unnamed0\n",
      "\n",
      "  warnings.warn(message, FutureWarning)\n",
      "c:\\Users\\USER\\Envs\\KD\\lib\\site-packages\\sklearn\\base.py:493: FutureWarning: The feature names should match those that were passed during fit. Starting version 1.2, an error will be raised.\n",
      "Feature names unseen at fit time:\n",
      "- Unnamed: 0\n",
      "Feature names seen at fit time, yet now missing:\n",
      "- Unnamed0\n",
      "\n",
      "  warnings.warn(message, FutureWarning)\n",
      "c:\\Users\\USER\\Envs\\KD\\lib\\site-packages\\sklearn\\base.py:493: FutureWarning: The feature names should match those that were passed during fit. Starting version 1.2, an error will be raised.\n",
      "Feature names unseen at fit time:\n",
      "- Unnamed: 0\n",
      "Feature names seen at fit time, yet now missing:\n",
      "- Unnamed0\n",
      "\n",
      "  warnings.warn(message, FutureWarning)\n",
      "c:\\Users\\USER\\Envs\\KD\\lib\\site-packages\\sklearn\\base.py:493: FutureWarning: The feature names should match those that were passed during fit. Starting version 1.2, an error will be raised.\n",
      "Feature names unseen at fit time:\n",
      "- Unnamed: 0\n",
      "Feature names seen at fit time, yet now missing:\n",
      "- Unnamed0\n",
      "\n",
      "  warnings.warn(message, FutureWarning)\n",
      "c:\\Users\\USER\\Envs\\KD\\lib\\site-packages\\sklearn\\base.py:493: FutureWarning: The feature names should match those that were passed during fit. Starting version 1.2, an error will be raised.\n",
      "Feature names unseen at fit time:\n",
      "- Unnamed: 0\n",
      "Feature names seen at fit time, yet now missing:\n",
      "- Unnamed0\n",
      "\n",
      "  warnings.warn(message, FutureWarning)\n",
      "c:\\Users\\USER\\Envs\\KD\\lib\\site-packages\\sklearn\\base.py:493: FutureWarning: The feature names should match those that were passed during fit. Starting version 1.2, an error will be raised.\n",
      "Feature names unseen at fit time:\n",
      "- Unnamed: 0\n",
      "Feature names seen at fit time, yet now missing:\n",
      "- Unnamed0\n",
      "\n",
      "  warnings.warn(message, FutureWarning)\n",
      "c:\\Users\\USER\\Envs\\KD\\lib\\site-packages\\sklearn\\base.py:493: FutureWarning: The feature names should match those that were passed during fit. Starting version 1.2, an error will be raised.\n",
      "Feature names unseen at fit time:\n",
      "- Unnamed: 0\n",
      "Feature names seen at fit time, yet now missing:\n",
      "- Unnamed0\n",
      "\n",
      "  warnings.warn(message, FutureWarning)\n",
      "c:\\Users\\USER\\Envs\\KD\\lib\\site-packages\\sklearn\\base.py:493: FutureWarning: The feature names should match those that were passed during fit. Starting version 1.2, an error will be raised.\n",
      "Feature names unseen at fit time:\n",
      "- Unnamed: 0\n",
      "Feature names seen at fit time, yet now missing:\n",
      "- Unnamed0\n",
      "\n",
      "  warnings.warn(message, FutureWarning)\n",
      "c:\\Users\\USER\\Envs\\KD\\lib\\site-packages\\sklearn\\base.py:493: FutureWarning: The feature names should match those that were passed during fit. Starting version 1.2, an error will be raised.\n",
      "Feature names unseen at fit time:\n",
      "- Unnamed: 0\n",
      "Feature names seen at fit time, yet now missing:\n",
      "- Unnamed0\n",
      "\n",
      "  warnings.warn(message, FutureWarning)\n",
      "c:\\Users\\USER\\Envs\\KD\\lib\\site-packages\\sklearn\\base.py:493: FutureWarning: The feature names should match those that were passed during fit. Starting version 1.2, an error will be raised.\n",
      "Feature names unseen at fit time:\n",
      "- Unnamed: 0\n",
      "Feature names seen at fit time, yet now missing:\n",
      "- Unnamed0\n",
      "\n",
      "  warnings.warn(message, FutureWarning)\n",
      "c:\\Users\\USER\\Envs\\KD\\lib\\site-packages\\sklearn\\base.py:493: FutureWarning: The feature names should match those that were passed during fit. Starting version 1.2, an error will be raised.\n",
      "Feature names unseen at fit time:\n",
      "- Unnamed: 0\n",
      "Feature names seen at fit time, yet now missing:\n",
      "- Unnamed0\n",
      "\n",
      "  warnings.warn(message, FutureWarning)\n",
      "c:\\Users\\USER\\Envs\\KD\\lib\\site-packages\\sklearn\\base.py:493: FutureWarning: The feature names should match those that were passed during fit. Starting version 1.2, an error will be raised.\n",
      "Feature names unseen at fit time:\n",
      "- Unnamed: 0\n",
      "Feature names seen at fit time, yet now missing:\n",
      "- Unnamed0\n",
      "\n",
      "  warnings.warn(message, FutureWarning)\n",
      "c:\\Users\\USER\\Envs\\KD\\lib\\site-packages\\sklearn\\base.py:493: FutureWarning: The feature names should match those that were passed during fit. Starting version 1.2, an error will be raised.\n",
      "Feature names unseen at fit time:\n",
      "- Unnamed: 0\n",
      "Feature names seen at fit time, yet now missing:\n",
      "- Unnamed0\n",
      "\n",
      "  warnings.warn(message, FutureWarning)\n",
      "c:\\Users\\USER\\Envs\\KD\\lib\\site-packages\\sklearn\\base.py:493: FutureWarning: The feature names should match those that were passed during fit. Starting version 1.2, an error will be raised.\n",
      "Feature names unseen at fit time:\n",
      "- Unnamed: 0\n",
      "Feature names seen at fit time, yet now missing:\n",
      "- Unnamed0\n",
      "\n",
      "  warnings.warn(message, FutureWarning)\n",
      "c:\\Users\\USER\\Envs\\KD\\lib\\site-packages\\sklearn\\base.py:493: FutureWarning: The feature names should match those that were passed during fit. Starting version 1.2, an error will be raised.\n",
      "Feature names unseen at fit time:\n",
      "- Unnamed: 0\n",
      "Feature names seen at fit time, yet now missing:\n",
      "- Unnamed0\n",
      "\n",
      "  warnings.warn(message, FutureWarning)\n"
     ]
    }
   ],
   "source": [
    "#upsampling validation\n",
    "fold_test = pd.read_csv('models_output/2-fold_test_z.csv')\n",
    "\n",
    "one_messages_2_test = fold_test[fold_test[\"Class\"] == 1 ]\n",
    "zero_messages_2_test =fold_test[fold_test[\"Class\"] == 0]\n",
    "one_message_2_test_upsample = resample(one_messages_2_test,\n",
    "             replace=True,\n",
    "             n_samples=len(zero_messages_2_test),\n",
    "             random_state=42)\n",
    "fold_test = pd.concat([one_message_2_test_upsample,zero_messages_2_test])\n",
    "x_2_test = fold_test.drop(columns=[\"Class\"])\n",
    "y_2_test = fold_test['Class']\n",
    "\n",
    "\n",
    "train_error_up[1],test_error_up[1] = plot_learning_curves(x_2,y_2,x_2_test,y_2_test,clf = model)\n",
    "del (fold_test)"
   ]
  },
  {
   "cell_type": "code",
   "execution_count": 13,
   "metadata": {},
   "outputs": [
    {
     "data": {
      "text/plain": [
       "<matplotlib.legend.Legend at 0x20e08039ca0>"
      ]
     },
     "execution_count": 13,
     "metadata": {},
     "output_type": "execute_result"
    },
    {
     "data": {
      "image/png": "[encoded data removed]",
      "text/plain": [
       "<Figure size 432x288 with 1 Axes>"
      ]
     },
     "metadata": {
      "needs_background": "light"
     },
     "output_type": "display_data"
    }
   ],
   "source": [
    "plt.plot(rng, train_error[1], color='blue', label='Training Accuracy')\n",
    "#plt.fill_between(train_sizes, train_mean + train_std, train_mean - train_std, alpha=0.15, color='blue')\n",
    "plt.plot(rng, test_error[1], color='orange',linestyle='--', label='Validation Accuracy')\n",
    "#plt.fill_between(train_sizes, test_mean + test_std, test_mean - test_std, alpha=0.15, color='green')\n",
    "plt.plot(rng, test_error_up[1], color='orange',linestyle='-', label='Validation(up) Accuracy')\n",
    "plt.title('Learning Curve')\n",
    "plt.xlabel('Training Data Size')\n",
    "plt.ylabel('Model error')\n",
    "plt.grid()\n",
    "plt.legend(loc='upper right')\n"
   ]
  },
  {
   "cell_type": "markdown",
   "metadata": {},
   "source": [
    "# fold 3"
   ]
  },
  {
   "cell_type": "code",
   "execution_count": 14,
   "metadata": {},
   "outputs": [],
   "source": [
    "fold_train = pd.read_csv('models_output/3-fold_train_z.csv')\n",
    "fold_test = pd.read_csv('models_output/3-fold_test_z.csv')\n",
    "#rename\n",
    "fold_train = fold_train.rename(columns=lambda x:re.sub('[^A-Za-z0-9_]+', '', x))\n",
    "fold_test = fold_test.rename(columns = lambda x:re.sub('[^A-Za-z0-9_]+', '', x))\n",
    "# upsampling train\n",
    "one_messages_3 = fold_train[fold_train[\"Class\"] == 1 ]\n",
    "zero_messages_3 =fold_train[fold_train[\"Class\"] == 0]\n",
    "one_message_3_upsample = resample(one_messages_3,\n",
    "             replace=True,\n",
    "             n_samples=len(zero_messages_3),\n",
    "             random_state=42)\n",
    "fold_train = pd.concat([one_message_3_upsample,zero_messages_3])\n",
    "x_3 = fold_train.drop(columns=['Class'])\n",
    "y_3 = fold_train['Class']\n",
    "\n",
    "x_3_test = fold_test.drop(columns=[\"Class\"])\n",
    "y_3_test = fold_test['Class']\n",
    "\n",
    "\n",
    "train_error[2],test_error[2] = plot_learning_curves(x_3,y_3,x_3_test,y_3_test,clf = model)\n",
    "#print(train_error,test_error)\n",
    "del (fold_train,fold_test)"
   ]
  },
  {
   "cell_type": "code",
   "execution_count": 15,
   "metadata": {},
   "outputs": [
    {
     "name": "stdout",
     "output_type": "stream",
     "text": [
      "19 19\n"
     ]
    }
   ],
   "source": [
    "rng = [int(i) for i in np.linspace(0, x_3.shape[0], 20)][1:]\n",
    "print(len(rng),len(train_error[0]))"
   ]
  },
  {
   "cell_type": "code",
   "execution_count": 16,
   "metadata": {},
   "outputs": [
    {
     "name": "stderr",
     "output_type": "stream",
     "text": [
      "c:\\Users\\USER\\Envs\\KD\\lib\\site-packages\\sklearn\\base.py:493: FutureWarning: The feature names should match those that were passed during fit. Starting version 1.2, an error will be raised.\n",
      "Feature names unseen at fit time:\n",
      "- Unnamed: 0\n",
      "Feature names seen at fit time, yet now missing:\n",
      "- Unnamed0\n",
      "\n",
      "  warnings.warn(message, FutureWarning)\n",
      "c:\\Users\\USER\\Envs\\KD\\lib\\site-packages\\sklearn\\base.py:493: FutureWarning: The feature names should match those that were passed during fit. Starting version 1.2, an error will be raised.\n",
      "Feature names unseen at fit time:\n",
      "- Unnamed: 0\n",
      "Feature names seen at fit time, yet now missing:\n",
      "- Unnamed0\n",
      "\n",
      "  warnings.warn(message, FutureWarning)\n",
      "c:\\Users\\USER\\Envs\\KD\\lib\\site-packages\\sklearn\\base.py:493: FutureWarning: The feature names should match those that were passed during fit. Starting version 1.2, an error will be raised.\n",
      "Feature names unseen at fit time:\n",
      "- Unnamed: 0\n",
      "Feature names seen at fit time, yet now missing:\n",
      "- Unnamed0\n",
      "\n",
      "  warnings.warn(message, FutureWarning)\n",
      "c:\\Users\\USER\\Envs\\KD\\lib\\site-packages\\sklearn\\base.py:493: FutureWarning: The feature names should match those that were passed during fit. Starting version 1.2, an error will be raised.\n",
      "Feature names unseen at fit time:\n",
      "- Unnamed: 0\n",
      "Feature names seen at fit time, yet now missing:\n",
      "- Unnamed0\n",
      "\n",
      "  warnings.warn(message, FutureWarning)\n",
      "c:\\Users\\USER\\Envs\\KD\\lib\\site-packages\\sklearn\\base.py:493: FutureWarning: The feature names should match those that were passed during fit. Starting version 1.2, an error will be raised.\n",
      "Feature names unseen at fit time:\n",
      "- Unnamed: 0\n",
      "Feature names seen at fit time, yet now missing:\n",
      "- Unnamed0\n",
      "\n",
      "  warnings.warn(message, FutureWarning)\n",
      "c:\\Users\\USER\\Envs\\KD\\lib\\site-packages\\sklearn\\base.py:493: FutureWarning: The feature names should match those that were passed during fit. Starting version 1.2, an error will be raised.\n",
      "Feature names unseen at fit time:\n",
      "- Unnamed: 0\n",
      "Feature names seen at fit time, yet now missing:\n",
      "- Unnamed0\n",
      "\n",
      "  warnings.warn(message, FutureWarning)\n",
      "c:\\Users\\USER\\Envs\\KD\\lib\\site-packages\\sklearn\\base.py:493: FutureWarning: The feature names should match those that were passed during fit. Starting version 1.2, an error will be raised.\n",
      "Feature names unseen at fit time:\n",
      "- Unnamed: 0\n",
      "Feature names seen at fit time, yet now missing:\n",
      "- Unnamed0\n",
      "\n",
      "  warnings.warn(message, FutureWarning)\n",
      "c:\\Users\\USER\\Envs\\KD\\lib\\site-packages\\sklearn\\base.py:493: FutureWarning: The feature names should match those that were passed during fit. Starting version 1.2, an error will be raised.\n",
      "Feature names unseen at fit time:\n",
      "- Unnamed: 0\n",
      "Feature names seen at fit time, yet now missing:\n",
      "- Unnamed0\n",
      "\n",
      "  warnings.warn(message, FutureWarning)\n",
      "c:\\Users\\USER\\Envs\\KD\\lib\\site-packages\\sklearn\\base.py:493: FutureWarning: The feature names should match those that were passed during fit. Starting version 1.2, an error will be raised.\n",
      "Feature names unseen at fit time:\n",
      "- Unnamed: 0\n",
      "Feature names seen at fit time, yet now missing:\n",
      "- Unnamed0\n",
      "\n",
      "  warnings.warn(message, FutureWarning)\n",
      "c:\\Users\\USER\\Envs\\KD\\lib\\site-packages\\sklearn\\base.py:493: FutureWarning: The feature names should match those that were passed during fit. Starting version 1.2, an error will be raised.\n",
      "Feature names unseen at fit time:\n",
      "- Unnamed: 0\n",
      "Feature names seen at fit time, yet now missing:\n",
      "- Unnamed0\n",
      "\n",
      "  warnings.warn(message, FutureWarning)\n",
      "c:\\Users\\USER\\Envs\\KD\\lib\\site-packages\\sklearn\\base.py:493: FutureWarning: The feature names should match those that were passed during fit. Starting version 1.2, an error will be raised.\n",
      "Feature names unseen at fit time:\n",
      "- Unnamed: 0\n",
      "Feature names seen at fit time, yet now missing:\n",
      "- Unnamed0\n",
      "\n",
      "  warnings.warn(message, FutureWarning)\n",
      "c:\\Users\\USER\\Envs\\KD\\lib\\site-packages\\sklearn\\base.py:493: FutureWarning: The feature names should match those that were passed during fit. Starting version 1.2, an error will be raised.\n",
      "Feature names unseen at fit time:\n",
      "- Unnamed: 0\n",
      "Feature names seen at fit time, yet now missing:\n",
      "- Unnamed0\n",
      "\n",
      "  warnings.warn(message, FutureWarning)\n",
      "c:\\Users\\USER\\Envs\\KD\\lib\\site-packages\\sklearn\\base.py:493: FutureWarning: The feature names should match those that were passed during fit. Starting version 1.2, an error will be raised.\n",
      "Feature names unseen at fit time:\n",
      "- Unnamed: 0\n",
      "Feature names seen at fit time, yet now missing:\n",
      "- Unnamed0\n",
      "\n",
      "  warnings.warn(message, FutureWarning)\n",
      "c:\\Users\\USER\\Envs\\KD\\lib\\site-packages\\sklearn\\base.py:493: FutureWarning: The feature names should match those that were passed during fit. Starting version 1.2, an error will be raised.\n",
      "Feature names unseen at fit time:\n",
      "- Unnamed: 0\n",
      "Feature names seen at fit time, yet now missing:\n",
      "- Unnamed0\n",
      "\n",
      "  warnings.warn(message, FutureWarning)\n",
      "c:\\Users\\USER\\Envs\\KD\\lib\\site-packages\\sklearn\\base.py:493: FutureWarning: The feature names should match those that were passed during fit. Starting version 1.2, an error will be raised.\n",
      "Feature names unseen at fit time:\n",
      "- Unnamed: 0\n",
      "Feature names seen at fit time, yet now missing:\n",
      "- Unnamed0\n",
      "\n",
      "  warnings.warn(message, FutureWarning)\n",
      "c:\\Users\\USER\\Envs\\KD\\lib\\site-packages\\sklearn\\base.py:493: FutureWarning: The feature names should match those that were passed during fit. Starting version 1.2, an error will be raised.\n",
      "Feature names unseen at fit time:\n",
      "- Unnamed: 0\n",
      "Feature names seen at fit time, yet now missing:\n",
      "- Unnamed0\n",
      "\n",
      "  warnings.warn(message, FutureWarning)\n",
      "c:\\Users\\USER\\Envs\\KD\\lib\\site-packages\\sklearn\\base.py:493: FutureWarning: The feature names should match those that were passed during fit. Starting version 1.2, an error will be raised.\n",
      "Feature names unseen at fit time:\n",
      "- Unnamed: 0\n",
      "Feature names seen at fit time, yet now missing:\n",
      "- Unnamed0\n",
      "\n",
      "  warnings.warn(message, FutureWarning)\n",
      "c:\\Users\\USER\\Envs\\KD\\lib\\site-packages\\sklearn\\base.py:493: FutureWarning: The feature names should match those that were passed during fit. Starting version 1.2, an error will be raised.\n",
      "Feature names unseen at fit time:\n",
      "- Unnamed: 0\n",
      "Feature names seen at fit time, yet now missing:\n",
      "- Unnamed0\n",
      "\n",
      "  warnings.warn(message, FutureWarning)\n",
      "c:\\Users\\USER\\Envs\\KD\\lib\\site-packages\\sklearn\\base.py:493: FutureWarning: The feature names should match those that were passed during fit. Starting version 1.2, an error will be raised.\n",
      "Feature names unseen at fit time:\n",
      "- Unnamed: 0\n",
      "Feature names seen at fit time, yet now missing:\n",
      "- Unnamed0\n",
      "\n",
      "  warnings.warn(message, FutureWarning)\n"
     ]
    }
   ],
   "source": [
    "#upsampling validation\n",
    "fold_test = pd.read_csv('models_output/3-fold_test_z.csv')\n",
    "\n",
    "one_messages_3_test = fold_test[fold_test[\"Class\"] == 1 ]\n",
    "zero_messages_3_test =fold_test[fold_test[\"Class\"] == 0]\n",
    "one_message_3_test_upsample = resample(one_messages_3_test,\n",
    "             replace=True,\n",
    "             n_samples=len(zero_messages_3_test),\n",
    "             random_state=42)\n",
    "fold_test = pd.concat([one_message_3_test_upsample,zero_messages_3_test])\n",
    "x_3_test = fold_test.drop(columns=[\"Class\"])\n",
    "y_3_test = fold_test['Class']\n",
    "\n",
    "\n",
    "train_error_up[2],test_error_up[2] = plot_learning_curves(x_3,y_3,x_3_test,y_3_test,clf = model)\n",
    "del (fold_test)"
   ]
  },
  {
   "cell_type": "code",
   "execution_count": 17,
   "metadata": {},
   "outputs": [
    {
     "data": {
      "text/plain": [
       "<matplotlib.legend.Legend at 0x20e0836bfd0>"
      ]
     },
     "execution_count": 17,
     "metadata": {},
     "output_type": "execute_result"
    },
    {
     "data": {
      "image/png": "[encoded data removed]",
      "text/plain": [
       "<Figure size 432x288 with 1 Axes>"
      ]
     },
     "metadata": {
      "needs_background": "light"
     },
     "output_type": "display_data"
    }
   ],
   "source": [
    "plt.plot(rng, train_error[2], color='blue', label='Training Accuracy')\n",
    "#plt.fill_between(train_sizes, train_mean + train_std, train_mean - train_std, alpha=0.15, color='blue')\n",
    "plt.plot(rng, test_error[2], color='orange',linestyle='--', label='Validation Accuracy')\n",
    "#plt.fill_between(train_sizes, test_mean + test_std, test_mean - test_std, alpha=0.15, color='green')\n",
    "plt.plot(rng, test_error_up[2], color='orange',linestyle='-', label='Validation(up) Accuracy')\n",
    "plt.title('Learning Curve')\n",
    "plt.xlabel('Training Data Size')\n",
    "plt.ylabel('Model error')\n",
    "plt.grid()\n",
    "plt.legend(loc='upper right')"
   ]
  },
  {
   "cell_type": "markdown",
   "metadata": {},
   "source": [
    "# fold 4\n"
   ]
  },
  {
   "cell_type": "code",
   "execution_count": 18,
   "metadata": {},
   "outputs": [],
   "source": [
    "fold_train = pd.read_csv('models_output/4-fold_train_z.csv')\n",
    "fold_test = pd.read_csv('models_output/4-fold_test_z.csv')\n",
    "#rename\n",
    "fold_train = fold_train.rename(columns=lambda x:re.sub('[^A-Za-z0-9_]+', '', x))\n",
    "fold_test = fold_test.rename(columns = lambda x:re.sub('[^A-Za-z0-9_]+', '', x))\n",
    "# upsampling train\n",
    "one_messages_4 = fold_train[fold_train[\"Class\"] == 1 ]\n",
    "zero_messages_4 =fold_train[fold_train[\"Class\"] == 0]\n",
    "one_message_4_upsample = resample(one_messages_4,\n",
    "             replace=True,\n",
    "             n_samples=len(zero_messages_4),\n",
    "             random_state=42)\n",
    "fold_train = pd.concat([one_message_4_upsample,zero_messages_4])\n",
    "x_4 = fold_train.drop(columns=['Class'])\n",
    "y_4 = fold_train['Class']\n",
    "\n",
    "x_4_test = fold_test.drop(columns=[\"Class\"])\n",
    "y_4_test = fold_test['Class']\n",
    "\n",
    "\n",
    "train_error[3],test_error[3] = plot_learning_curves(x_4,y_4,x_4_test,y_4_test,clf = model)\n",
    "#print(train_error,test_error)\n",
    "del (fold_train,fold_test)"
   ]
  },
  {
   "cell_type": "code",
   "execution_count": 19,
   "metadata": {},
   "outputs": [
    {
     "name": "stdout",
     "output_type": "stream",
     "text": [
      "19 19\n"
     ]
    }
   ],
   "source": [
    "rng = [int(i) for i in np.linspace(0, x_4.shape[0], 20)][1:]\n",
    "print(len(rng),len(train_error[0]))"
   ]
  },
  {
   "cell_type": "code",
   "execution_count": 20,
   "metadata": {},
   "outputs": [
    {
     "name": "stderr",
     "output_type": "stream",
     "text": [
      "c:\\Users\\USER\\Envs\\KD\\lib\\site-packages\\sklearn\\base.py:493: FutureWarning: The feature names should match those that were passed during fit. Starting version 1.2, an error will be raised.\n",
      "Feature names unseen at fit time:\n",
      "- Unnamed: 0\n",
      "Feature names seen at fit time, yet now missing:\n",
      "- Unnamed0\n",
      "\n",
      "  warnings.warn(message, FutureWarning)\n",
      "c:\\Users\\USER\\Envs\\KD\\lib\\site-packages\\sklearn\\base.py:493: FutureWarning: The feature names should match those that were passed during fit. Starting version 1.2, an error will be raised.\n",
      "Feature names unseen at fit time:\n",
      "- Unnamed: 0\n",
      "Feature names seen at fit time, yet now missing:\n",
      "- Unnamed0\n",
      "\n",
      "  warnings.warn(message, FutureWarning)\n",
      "c:\\Users\\USER\\Envs\\KD\\lib\\site-packages\\sklearn\\base.py:493: FutureWarning: The feature names should match those that were passed during fit. Starting version 1.2, an error will be raised.\n",
      "Feature names unseen at fit time:\n",
      "- Unnamed: 0\n",
      "Feature names seen at fit time, yet now missing:\n",
      "- Unnamed0\n",
      "\n",
      "  warnings.warn(message, FutureWarning)\n",
      "c:\\Users\\USER\\Envs\\KD\\lib\\site-packages\\sklearn\\base.py:493: FutureWarning: The feature names should match those that were passed during fit. Starting version 1.2, an error will be raised.\n",
      "Feature names unseen at fit time:\n",
      "- Unnamed: 0\n",
      "Feature names seen at fit time, yet now missing:\n",
      "- Unnamed0\n",
      "\n",
      "  warnings.warn(message, FutureWarning)\n",
      "c:\\Users\\USER\\Envs\\KD\\lib\\site-packages\\sklearn\\base.py:493: FutureWarning: The feature names should match those that were passed during fit. Starting version 1.2, an error will be raised.\n",
      "Feature names unseen at fit time:\n",
      "- Unnamed: 0\n",
      "Feature names seen at fit time, yet now missing:\n",
      "- Unnamed0\n",
      "\n",
      "  warnings.warn(message, FutureWarning)\n",
      "c:\\Users\\USER\\Envs\\KD\\lib\\site-packages\\sklearn\\base.py:493: FutureWarning: The feature names should match those that were passed during fit. Starting version 1.2, an error will be raised.\n",
      "Feature names unseen at fit time:\n",
      "- Unnamed: 0\n",
      "Feature names seen at fit time, yet now missing:\n",
      "- Unnamed0\n",
      "\n",
      "  warnings.warn(message, FutureWarning)\n",
      "c:\\Users\\USER\\Envs\\KD\\lib\\site-packages\\sklearn\\base.py:493: FutureWarning: The feature names should match those that were passed during fit. Starting version 1.2, an error will be raised.\n",
      "Feature names unseen at fit time:\n",
      "- Unnamed: 0\n",
      "Feature names seen at fit time, yet now missing:\n",
      "- Unnamed0\n",
      "\n",
      "  warnings.warn(message, FutureWarning)\n",
      "c:\\Users\\USER\\Envs\\KD\\lib\\site-packages\\sklearn\\base.py:493: FutureWarning: The feature names should match those that were passed during fit. Starting version 1.2, an error will be raised.\n",
      "Feature names unseen at fit time:\n",
      "- Unnamed: 0\n",
      "Feature names seen at fit time, yet now missing:\n",
      "- Unnamed0\n",
      "\n",
      "  warnings.warn(message, FutureWarning)\n",
      "c:\\Users\\USER\\Envs\\KD\\lib\\site-packages\\sklearn\\base.py:493: FutureWarning: The feature names should match those that were passed during fit. Starting version 1.2, an error will be raised.\n",
      "Feature names unseen at fit time:\n",
      "- Unnamed: 0\n",
      "Feature names seen at fit time, yet now missing:\n",
      "- Unnamed0\n",
      "\n",
      "  warnings.warn(message, FutureWarning)\n",
      "c:\\Users\\USER\\Envs\\KD\\lib\\site-packages\\sklearn\\base.py:493: FutureWarning: The feature names should match those that were passed during fit. Starting version 1.2, an error will be raised.\n",
      "Feature names unseen at fit time:\n",
      "- Unnamed: 0\n",
      "Feature names seen at fit time, yet now missing:\n",
      "- Unnamed0\n",
      "\n",
      "  warnings.warn(message, FutureWarning)\n",
      "c:\\Users\\USER\\Envs\\KD\\lib\\site-packages\\sklearn\\base.py:493: FutureWarning: The feature names should match those that were passed during fit. Starting version 1.2, an error will be raised.\n",
      "Feature names unseen at fit time:\n",
      "- Unnamed: 0\n",
      "Feature names seen at fit time, yet now missing:\n",
      "- Unnamed0\n",
      "\n",
      "  warnings.warn(message, FutureWarning)\n",
      "c:\\Users\\USER\\Envs\\KD\\lib\\site-packages\\sklearn\\base.py:493: FutureWarning: The feature names should match those that were passed during fit. Starting version 1.2, an error will be raised.\n",
      "Feature names unseen at fit time:\n",
      "- Unnamed: 0\n",
      "Feature names seen at fit time, yet now missing:\n",
      "- Unnamed0\n",
      "\n",
      "  warnings.warn(message, FutureWarning)\n",
      "c:\\Users\\USER\\Envs\\KD\\lib\\site-packages\\sklearn\\base.py:493: FutureWarning: The feature names should match those that were passed during fit. Starting version 1.2, an error will be raised.\n",
      "Feature names unseen at fit time:\n",
      "- Unnamed: 0\n",
      "Feature names seen at fit time, yet now missing:\n",
      "- Unnamed0\n",
      "\n",
      "  warnings.warn(message, FutureWarning)\n",
      "c:\\Users\\USER\\Envs\\KD\\lib\\site-packages\\sklearn\\base.py:493: FutureWarning: The feature names should match those that were passed during fit. Starting version 1.2, an error will be raised.\n",
      "Feature names unseen at fit time:\n",
      "- Unnamed: 0\n",
      "Feature names seen at fit time, yet now missing:\n",
      "- Unnamed0\n",
      "\n",
      "  warnings.warn(message, FutureWarning)\n",
      "c:\\Users\\USER\\Envs\\KD\\lib\\site-packages\\sklearn\\base.py:493: FutureWarning: The feature names should match those that were passed during fit. Starting version 1.2, an error will be raised.\n",
      "Feature names unseen at fit time:\n",
      "- Unnamed: 0\n",
      "Feature names seen at fit time, yet now missing:\n",
      "- Unnamed0\n",
      "\n",
      "  warnings.warn(message, FutureWarning)\n",
      "c:\\Users\\USER\\Envs\\KD\\lib\\site-packages\\sklearn\\base.py:493: FutureWarning: The feature names should match those that were passed during fit. Starting version 1.2, an error will be raised.\n",
      "Feature names unseen at fit time:\n",
      "- Unnamed: 0\n",
      "Feature names seen at fit time, yet now missing:\n",
      "- Unnamed0\n",
      "\n",
      "  warnings.warn(message, FutureWarning)\n",
      "c:\\Users\\USER\\Envs\\KD\\lib\\site-packages\\sklearn\\base.py:493: FutureWarning: The feature names should match those that were passed during fit. Starting version 1.2, an error will be raised.\n",
      "Feature names unseen at fit time:\n",
      "- Unnamed: 0\n",
      "Feature names seen at fit time, yet now missing:\n",
      "- Unnamed0\n",
      "\n",
      "  warnings.warn(message, FutureWarning)\n",
      "c:\\Users\\USER\\Envs\\KD\\lib\\site-packages\\sklearn\\base.py:493: FutureWarning: The feature names should match those that were passed during fit. Starting version 1.2, an error will be raised.\n",
      "Feature names unseen at fit time:\n",
      "- Unnamed: 0\n",
      "Feature names seen at fit time, yet now missing:\n",
      "- Unnamed0\n",
      "\n",
      "  warnings.warn(message, FutureWarning)\n",
      "c:\\Users\\USER\\Envs\\KD\\lib\\site-packages\\sklearn\\base.py:493: FutureWarning: The feature names should match those that were passed during fit. Starting version 1.2, an error will be raised.\n",
      "Feature names unseen at fit time:\n",
      "- Unnamed: 0\n",
      "Feature names seen at fit time, yet now missing:\n",
      "- Unnamed0\n",
      "\n",
      "  warnings.warn(message, FutureWarning)\n"
     ]
    }
   ],
   "source": [
    "#upsampling validation\n",
    "fold_test = pd.read_csv('models_output/4-fold_test_z.csv')\n",
    "\n",
    "one_messages_4_test = fold_test[fold_test[\"Class\"] == 1 ]\n",
    "zero_messages_4_test =fold_test[fold_test[\"Class\"] == 0]\n",
    "one_message_4_test_upsample = resample(one_messages_4_test,\n",
    "             replace=True,\n",
    "             n_samples=len(zero_messages_4_test),\n",
    "             random_state=42)\n",
    "fold_test = pd.concat([one_message_4_test_upsample,zero_messages_4_test])\n",
    "x_4_test = fold_test.drop(columns=[\"Class\"])\n",
    "y_4_test = fold_test['Class']\n",
    "\n",
    "\n",
    "train_error_up[3],test_error_up[3] = plot_learning_curves(x_4,y_4,x_4_test,y_4_test,clf = model)\n",
    "del (fold_test)"
   ]
  },
  {
   "cell_type": "code",
   "execution_count": 21,
   "metadata": {},
   "outputs": [
    {
     "data": {
      "text/plain": [
       "<matplotlib.legend.Legend at 0x20e08185d90>"
      ]
     },
     "execution_count": 21,
     "metadata": {},
     "output_type": "execute_result"
    },
    {
     "data": {
      "image/png": "[encoded data removed]",
      "text/plain": [
       "<Figure size 432x288 with 1 Axes>"
      ]
     },
     "metadata": {
      "needs_background": "light"
     },
     "output_type": "display_data"
    }
   ],
   "source": [
    "plt.plot(rng, train_error[3], color='blue', label='Training Accuracy')\n",
    "#plt.fill_between(train_sizes, train_mean + train_std, train_mean - train_std, alpha=0.15, color='blue')\n",
    "plt.plot(rng, test_error[3], color='orange',linestyle='--', label='Validation Accuracy')\n",
    "#plt.fill_between(train_sizes, test_mean + test_std, test_mean - test_std, alpha=0.15, color='green')\n",
    "plt.plot(rng, test_error_up[3], color='orange',linestyle='-', label='Validation(up) Accuracy')\n",
    "plt.title('Learning Curve')\n",
    "plt.xlabel('Training Data Size')\n",
    "plt.ylabel('Model error')\n",
    "plt.grid()\n",
    "plt.legend(loc='upper right')"
   ]
  },
  {
   "cell_type": "markdown",
   "metadata": {},
   "source": [
    "# fold 5"
   ]
  },
  {
   "cell_type": "code",
   "execution_count": 22,
   "metadata": {},
   "outputs": [],
   "source": [
    "fold_train = pd.read_csv('models_output/5-fold_train_z.csv')\n",
    "fold_test = pd.read_csv('models_output/5-fold_test_z.csv')\n",
    "#rename\n",
    "fold_train = fold_train.rename(columns=lambda x:re.sub('[^A-Za-z0-9_]+', '', x))\n",
    "fold_test = fold_test.rename(columns = lambda x:re.sub('[^A-Za-z0-9_]+', '', x))\n",
    "# upsampling train\n",
    "one_messages_5 = fold_train[fold_train[\"Class\"] == 1 ]\n",
    "zero_messages_5 =fold_train[fold_train[\"Class\"] == 0]\n",
    "one_message_5_upsample = resample(one_messages_5,\n",
    "             replace=True,\n",
    "             n_samples=len(zero_messages_5),\n",
    "             random_state=42)\n",
    "fold_train = pd.concat([one_message_5_upsample,zero_messages_5])\n",
    "x_5 = fold_train.drop(columns=['Class'])\n",
    "y_5 = fold_train['Class']\n",
    "\n",
    "x_5_test = fold_test.drop(columns=[\"Class\"])\n",
    "y_5_test = fold_test['Class']\n",
    "\n",
    "\n",
    "train_error[4],test_error[4] = plot_learning_curves(x_5,y_5,x_5_test,y_5_test,clf = model)\n",
    "#print(train_error,test_error)\n",
    "del (fold_train,fold_test)"
   ]
  },
  {
   "cell_type": "code",
   "execution_count": 23,
   "metadata": {},
   "outputs": [
    {
     "name": "stdout",
     "output_type": "stream",
     "text": [
      "19 19\n"
     ]
    }
   ],
   "source": [
    "rng = [int(i) for i in np.linspace(0, x_5.shape[0], 20)][1:]\n",
    "print(len(rng),len(train_error[0]))"
   ]
  },
  {
   "cell_type": "code",
   "execution_count": 24,
   "metadata": {},
   "outputs": [
    {
     "name": "stderr",
     "output_type": "stream",
     "text": [
      "c:\\Users\\USER\\Envs\\KD\\lib\\site-packages\\sklearn\\base.py:493: FutureWarning: The feature names should match those that were passed during fit. Starting version 1.2, an error will be raised.\n",
      "Feature names unseen at fit time:\n",
      "- Unnamed: 0\n",
      "Feature names seen at fit time, yet now missing:\n",
      "- Unnamed0\n",
      "\n",
      "  warnings.warn(message, FutureWarning)\n",
      "c:\\Users\\USER\\Envs\\KD\\lib\\site-packages\\sklearn\\base.py:493: FutureWarning: The feature names should match those that were passed during fit. Starting version 1.2, an error will be raised.\n",
      "Feature names unseen at fit time:\n",
      "- Unnamed: 0\n",
      "Feature names seen at fit time, yet now missing:\n",
      "- Unnamed0\n",
      "\n",
      "  warnings.warn(message, FutureWarning)\n",
      "c:\\Users\\USER\\Envs\\KD\\lib\\site-packages\\sklearn\\base.py:493: FutureWarning: The feature names should match those that were passed during fit. Starting version 1.2, an error will be raised.\n",
      "Feature names unseen at fit time:\n",
      "- Unnamed: 0\n",
      "Feature names seen at fit time, yet now missing:\n",
      "- Unnamed0\n",
      "\n",
      "  warnings.warn(message, FutureWarning)\n",
      "c:\\Users\\USER\\Envs\\KD\\lib\\site-packages\\sklearn\\base.py:493: FutureWarning: The feature names should match those that were passed during fit. Starting version 1.2, an error will be raised.\n",
      "Feature names unseen at fit time:\n",
      "- Unnamed: 0\n",
      "Feature names seen at fit time, yet now missing:\n",
      "- Unnamed0\n",
      "\n",
      "  warnings.warn(message, FutureWarning)\n",
      "c:\\Users\\USER\\Envs\\KD\\lib\\site-packages\\sklearn\\base.py:493: FutureWarning: The feature names should match those that were passed during fit. Starting version 1.2, an error will be raised.\n",
      "Feature names unseen at fit time:\n",
      "- Unnamed: 0\n",
      "Feature names seen at fit time, yet now missing:\n",
      "- Unnamed0\n",
      "\n",
      "  warnings.warn(message, FutureWarning)\n",
      "c:\\Users\\USER\\Envs\\KD\\lib\\site-packages\\sklearn\\base.py:493: FutureWarning: The feature names should match those that were passed during fit. Starting version 1.2, an error will be raised.\n",
      "Feature names unseen at fit time:\n",
      "- Unnamed: 0\n",
      "Feature names seen at fit time, yet now missing:\n",
      "- Unnamed0\n",
      "\n",
      "  warnings.warn(message, FutureWarning)\n",
      "c:\\Users\\USER\\Envs\\KD\\lib\\site-packages\\sklearn\\base.py:493: FutureWarning: The feature names should match those that were passed during fit. Starting version 1.2, an error will be raised.\n",
      "Feature names unseen at fit time:\n",
      "- Unnamed: 0\n",
      "Feature names seen at fit time, yet now missing:\n",
      "- Unnamed0\n",
      "\n",
      "  warnings.warn(message, FutureWarning)\n",
      "c:\\Users\\USER\\Envs\\KD\\lib\\site-packages\\sklearn\\base.py:493: FutureWarning: The feature names should match those that were passed during fit. Starting version 1.2, an error will be raised.\n",
      "Feature names unseen at fit time:\n",
      "- Unnamed: 0\n",
      "Feature names seen at fit time, yet now missing:\n",
      "- Unnamed0\n",
      "\n",
      "  warnings.warn(message, FutureWarning)\n",
      "c:\\Users\\USER\\Envs\\KD\\lib\\site-packages\\sklearn\\base.py:493: FutureWarning: The feature names should match those that were passed during fit. Starting version 1.2, an error will be raised.\n",
      "Feature names unseen at fit time:\n",
      "- Unnamed: 0\n",
      "Feature names seen at fit time, yet now missing:\n",
      "- Unnamed0\n",
      "\n",
      "  warnings.warn(message, FutureWarning)\n",
      "c:\\Users\\USER\\Envs\\KD\\lib\\site-packages\\sklearn\\base.py:493: FutureWarning: The feature names should match those that were passed during fit. Starting version 1.2, an error will be raised.\n",
      "Feature names unseen at fit time:\n",
      "- Unnamed: 0\n",
      "Feature names seen at fit time, yet now missing:\n",
      "- Unnamed0\n",
      "\n",
      "  warnings.warn(message, FutureWarning)\n",
      "c:\\Users\\USER\\Envs\\KD\\lib\\site-packages\\sklearn\\base.py:493: FutureWarning: The feature names should match those that were passed during fit. Starting version 1.2, an error will be raised.\n",
      "Feature names unseen at fit time:\n",
      "- Unnamed: 0\n",
      "Feature names seen at fit time, yet now missing:\n",
      "- Unnamed0\n",
      "\n",
      "  warnings.warn(message, FutureWarning)\n",
      "c:\\Users\\USER\\Envs\\KD\\lib\\site-packages\\sklearn\\base.py:493: FutureWarning: The feature names should match those that were passed during fit. Starting version 1.2, an error will be raised.\n",
      "Feature names unseen at fit time:\n",
      "- Unnamed: 0\n",
      "Feature names seen at fit time, yet now missing:\n",
      "- Unnamed0\n",
      "\n",
      "  warnings.warn(message, FutureWarning)\n",
      "c:\\Users\\USER\\Envs\\KD\\lib\\site-packages\\sklearn\\base.py:493: FutureWarning: The feature names should match those that were passed during fit. Starting version 1.2, an error will be raised.\n",
      "Feature names unseen at fit time:\n",
      "- Unnamed: 0\n",
      "Feature names seen at fit time, yet now missing:\n",
      "- Unnamed0\n",
      "\n",
      "  warnings.warn(message, FutureWarning)\n",
      "c:\\Users\\USER\\Envs\\KD\\lib\\site-packages\\sklearn\\base.py:493: FutureWarning: The feature names should match those that were passed during fit. Starting version 1.2, an error will be raised.\n",
      "Feature names unseen at fit time:\n",
      "- Unnamed: 0\n",
      "Feature names seen at fit time, yet now missing:\n",
      "- Unnamed0\n",
      "\n",
      "  warnings.warn(message, FutureWarning)\n",
      "c:\\Users\\USER\\Envs\\KD\\lib\\site-packages\\sklearn\\base.py:493: FutureWarning: The feature names should match those that were passed during fit. Starting version 1.2, an error will be raised.\n",
      "Feature names unseen at fit time:\n",
      "- Unnamed: 0\n",
      "Feature names seen at fit time, yet now missing:\n",
      "- Unnamed0\n",
      "\n",
      "  warnings.warn(message, FutureWarning)\n",
      "c:\\Users\\USER\\Envs\\KD\\lib\\site-packages\\sklearn\\base.py:493: FutureWarning: The feature names should match those that were passed during fit. Starting version 1.2, an error will be raised.\n",
      "Feature names unseen at fit time:\n",
      "- Unnamed: 0\n",
      "Feature names seen at fit time, yet now missing:\n",
      "- Unnamed0\n",
      "\n",
      "  warnings.warn(message, FutureWarning)\n",
      "c:\\Users\\USER\\Envs\\KD\\lib\\site-packages\\sklearn\\base.py:493: FutureWarning: The feature names should match those that were passed during fit. Starting version 1.2, an error will be raised.\n",
      "Feature names unseen at fit time:\n",
      "- Unnamed: 0\n",
      "Feature names seen at fit time, yet now missing:\n",
      "- Unnamed0\n",
      "\n",
      "  warnings.warn(message, FutureWarning)\n",
      "c:\\Users\\USER\\Envs\\KD\\lib\\site-packages\\sklearn\\base.py:493: FutureWarning: The feature names should match those that were passed during fit. Starting version 1.2, an error will be raised.\n",
      "Feature names unseen at fit time:\n",
      "- Unnamed: 0\n",
      "Feature names seen at fit time, yet now missing:\n",
      "- Unnamed0\n",
      "\n",
      "  warnings.warn(message, FutureWarning)\n",
      "c:\\Users\\USER\\Envs\\KD\\lib\\site-packages\\sklearn\\base.py:493: FutureWarning: The feature names should match those that were passed during fit. Starting version 1.2, an error will be raised.\n",
      "Feature names unseen at fit time:\n",
      "- Unnamed: 0\n",
      "Feature names seen at fit time, yet now missing:\n",
      "- Unnamed0\n",
      "\n",
      "  warnings.warn(message, FutureWarning)\n"
     ]
    }
   ],
   "source": [
    "#upsampling validation\n",
    "fold_test = pd.read_csv('models_output/5-fold_test_z.csv')\n",
    "\n",
    "one_messages_5_test = fold_test[fold_test[\"Class\"] == 1 ]\n",
    "zero_messages_5_test =fold_test[fold_test[\"Class\"] == 0]\n",
    "one_message_5_test_upsample = resample(one_messages_5_test,\n",
    "             replace=True,\n",
    "             n_samples=len(zero_messages_5_test),\n",
    "             random_state=42)\n",
    "fold_test = pd.concat([one_message_5_test_upsample,zero_messages_5_test])\n",
    "x_5_test = fold_test.drop(columns=[\"Class\"])\n",
    "y_5_test = fold_test['Class']\n",
    "\n",
    "\n",
    "train_error_up[4],test_error_up[4] = plot_learning_curves(x_5,y_5,x_5_test,y_5_test,clf = model)\n",
    "del (fold_test)"
   ]
  },
  {
   "cell_type": "code",
   "execution_count": 25,
   "metadata": {},
   "outputs": [
    {
     "data": {
      "text/plain": [
       "<matplotlib.legend.Legend at 0x20e08cf5e50>"
      ]
     },
     "execution_count": 25,
     "metadata": {},
     "output_type": "execute_result"
    },
    {
     "data": {
      "image/png": "[encoded data removed]",
      "text/plain": [
       "<Figure size 432x288 with 1 Axes>"
      ]
     },
     "metadata": {
      "needs_background": "light"
     },
     "output_type": "display_data"
    }
   ],
   "source": [
    "plt.plot(rng, train_error[4], color='blue', label='Training Accuracy')\n",
    "#plt.fill_between(train_sizes, train_mean + train_std, train_mean - train_std, alpha=0.15, color='blue')\n",
    "plt.plot(rng, test_error[4], color='orange',linestyle='--', label='Validation Accuracy')\n",
    "#plt.fill_between(train_sizes, test_mean + test_std, test_mean - test_std, alpha=0.15, color='green')\n",
    "plt.plot(rng, test_error_up[4], color='orange',linestyle='-', label='Validation(up) Accuracy')\n",
    "plt.title('Learning Curve')\n",
    "plt.xlabel('Training Data Size')\n",
    "plt.ylabel('Model error')\n",
    "plt.grid()\n",
    "plt.legend(loc='upper right')"
   ]
  },
  {
   "cell_type": "code",
   "execution_count": 26,
   "metadata": {},
   "outputs": [
    {
     "name": "stdout",
     "output_type": "stream",
     "text": [
      "[[0.9705191198461867, 0.9705191198461867, 0.9705191198461867, 0.9705191198461867, 0.9705191198461867, 0.9705191198461867, 0.9705191198461867, 0.9705191198461867, 0.9705191198461867, 0.7403332621234779, 0.4468062379833369, 0.1346934415723136, 0.1130100405896176, 0.10008545182653279, 0.08854945524460585, 0.08310190130314035, 0.08107242042298654, 0.06985686819055757, 0.06537064729758599], [0.9690237128818628, 0.9690237128818628, 0.9690237128818628, 0.9690237128818628, 0.9690237128818628, 0.9690237128818628, 0.9690237128818628, 0.9690237128818628, 0.9690237128818628, 0.7400128177739799, 0.4385814996795557, 0.13106173894466994, 0.12465285195471053, 0.10531937620166631, 0.097735526596881, 0.08790856654560991, 0.07573168126468703, 0.07199316385387737, 0.06483657338175604], [0.966673787652211, 0.966673787652211, 0.966673787652211, 0.966673787652211, 0.966673787652211, 0.966673787652211, 0.966673787652211, 0.966673787652211, 0.966673787652211, 0.7369151890621662, 0.43879512924588765, 0.15765861995300148, 0.13960692159794916, 0.130207220679342, 0.11172826319162572, 0.0935697500534074, 0.09057893612475967, 0.07765434736167486, 0.06707968382824182], [0.9672078615680411, 0.9672078615680411, 0.9672078615680411, 0.9672078615680411, 0.9672078615680411, 0.9672078615680411, 0.9672078615680411, 0.9672078615680411, 0.9672078615680411, 0.7244178594317453, 0.4327066866054262, 0.1389660328989532, 0.12881862849818415, 0.11995300149540697, 0.10008545182653279, 0.08758812219611194, 0.08278145695364239, 0.07370220038453322, 0.0630207220679342], [0.9723320158102767, 0.9723320158102767, 0.9723320158102767, 0.9723320158102767, 0.9723320158102767, 0.9723320158102767, 0.9723320158102767, 0.9723320158102767, 0.9723320158102767, 0.735284691806431, 0.42847986326247195, 0.1417583591496635, 0.12423886336929815, 0.11387672257237474, 0.10810810810810811, 0.09272513620339708, 0.0901613075526119, 0.0791582095929922, 0.06890289498985151]]\n"
     ]
    }
   ],
   "source": [
    "#for i in range (0,5):\n",
    "#    print('train_error:',train_error[i][10],'test_error:',test_error[i][10])\n",
    "print(test_error)"
   ]
  },
  {
   "cell_type": "code",
   "execution_count": 27,
   "metadata": {},
   "outputs": [
    {
     "name": "stdout",
     "output_type": "stream",
     "text": [
      "total train error: [0.0, 0.0, 0.0, 0.0, 0.0, 0.0, 0.0, 0.0, 0.0, 0.011313774037679926, 0.02635307342654717, 0.03343170186428242, 0.04079516684175426, 0.04498598752848171, 0.04962043734827297, 0.05503991479542338, 0.06048434021964537, 0.06225721291053243, 0.061759947734078245] \n",
      "\n",
      " total test error: [0.9691512995517156, 0.9691512995517156, 0.9691512995517156, 0.9691512995517156, 0.9691512995517156, 0.9691512995517156, 0.9691512995517156, 0.9691512995517156, 0.9691512995517156, 0.73539276403956, 0.4370738833553357, 0.14082763850372035, 0.12606546120195192, 0.11388835455506459, 0.1012413609935507, 0.08897869526033333, 0.0840651604637375, 0.07447295787672704, 0.06584210431307391] \n",
      "\n",
      " total test error upsampling: [0.5, 0.5, 0.5, 0.5, 0.5, 0.5, 0.5, 0.5, 0.5, 0.3830037488326866, 0.2400371827282025, 0.09967992508185165, 0.0979892816806244, 0.09145587784624394, 0.0897419498615164, 0.08332590615954785, 0.08458292492684823, 0.0811541433271629, 0.08250909321011228]\n"
     ]
    }
   ],
   "source": [
    "total_train_loss_pd = pd.DataFrame()\n",
    "total_test_loss_pd = pd.DataFrame()\n",
    "total_test_loss_up_pd = pd.DataFrame()\n",
    "for i in range(len(train_error)):\n",
    "    total_train_loss_pd['{}_fold'.format(i+1)] = train_error[i]\n",
    "    total_test_loss_pd['{}_fold'.format(i+1)] = test_error[i]\n",
    "    total_test_loss_up_pd['{}_fold'.format(i+1)]= test_error_up[i]\n",
    "\n",
    "total_train_loss_pd['average'] = total_train_loss_pd.sum(axis = 1)/5\n",
    "total_test_loss_pd['average'] = total_test_loss_pd.sum(axis = 1)/5\n",
    "total_test_loss_up_pd['average'] = total_test_loss_up_pd.sum(axis = 1)/5\n",
    "\n",
    "print('total_train_loss',list(total_train_loss_pd['average']),'\\n\\n','total_test_loss',list(total_test_loss_pd['average']),'\\n\\n','total_test_loss_up',list(total_test_loss_up_pd['average']))\n",
    "\n"
   ]
  },
  {
   "cell_type": "code",
   "execution_count": 28,
   "metadata": {},
   "outputs": [
    {
     "data": {
      "text/plain": [
       "<matplotlib.legend.Legend at 0x20e0830ca00>"
      ]
     },
     "execution_count": 28,
     "metadata": {},
     "output_type": "execute_result"
    },
    {
     "data": {
      "image/png": "[encoded data removed]",
      "text/plain": [
       "<Figure size 432x288 with 1 Axes>"
      ]
     },
     "metadata": {
      "needs_background": "light"
     },
     "output_type": "display_data"
    }
   ],
   "source": [
    "plt.plot(rng, total_error_train, color='blue', label='Training Accuracy')\n",
    "#plt.fill_between(train_sizes, train_mean + train_std, train_mean - train_std, alpha=0.15, color='blue')\n",
    "plt.plot(rng, total_error_test, color='orange',linestyle='--', label='Validation Accuracy')\n",
    "#plt.fill_between(train_sizes, test_mean + test_std, test_mean - test_std, alpha=0.15, color='green')\n",
    "plt.plot(rng, total_error_test_up, color='orange',linestyle='-', label='Validation(up) Accuracy')\n",
    "plt.title('Learning Curve')\n",
    "plt.xlabel('Training Data Size')\n",
    "plt.ylabel('Model loss')\n",
    "plt.grid()\n",
    "plt.legend(loc='upper right')"
   ]
  },
  {
   "cell_type": "code",
   "execution_count": 29,
   "metadata": {},
   "outputs": [
    {
     "data": {
      "text/html": [
       "<style>#sk-container-id-1 {color: black;background-color: white;}#sk-container-id-1 pre{padding: 0;}#sk-container-id-1 div.sk-toggleable {background-color: white;}#sk-container-id-1 label.sk-toggleable__label {cursor: pointer;display: block;width: 100%;margin-bottom: 0;padding: 0.3em;box-sizing: border-box;text-align: center;}#sk-container-id-1 label.sk-toggleable__label-arrow:before {content: \"▸\";float: left;margin-right: 0.25em;color: #696969;}#sk-container-id-1 label.sk-toggleable__label-arrow:hover:before {color: black;}#sk-container-id-1 div.sk-estimator:hover label.sk-toggleable__label-arrow:before {color: black;}#sk-container-id-1 div.sk-toggleable__content {max-height: 0;max-width: 0;overflow: hidden;text-align: left;background-color: #f0f8ff;}#sk-container-id-1 div.sk-toggleable__content pre {margin: 0.2em;color: black;border-radius: 0.25em;background-color: #f0f8ff;}#sk-container-id-1 input.sk-toggleable__control:checked~div.sk-toggleable__content {max-height: 200px;max-width: 100%;overflow: auto;}#sk-container-id-1 input.sk-toggleable__control:checked~label.sk-toggleable__label-arrow:before {content: \"▾\";}#sk-container-id-1 div.sk-estimator input.sk-toggleable__control:checked~label.sk-toggleable__label {background-color: #d4ebff;}#sk-container-id-1 div.sk-label input.sk-toggleable__control:checked~label.sk-toggleable__label {background-color: #d4ebff;}#sk-container-id-1 input.sk-hidden--visually {border: 0;clip: rect(1px 1px 1px 1px);clip: rect(1px, 1px, 1px, 1px);height: 1px;margin: -1px;overflow: hidden;padding: 0;position: absolute;width: 1px;}#sk-container-id-1 div.sk-estimator {font-family: monospace;background-color: #f0f8ff;border: 1px dotted black;border-radius: 0.25em;box-sizing: border-box;margin-bottom: 0.5em;}#sk-container-id-1 div.sk-estimator:hover {background-color: #d4ebff;}#sk-container-id-1 div.sk-parallel-item::after {content: \"\";width: 100%;border-bottom: 1px solid gray;flex-grow: 1;}#sk-container-id-1 div.sk-label:hover label.sk-toggleable__label {background-color: #d4ebff;}#sk-container-id-1 div.sk-serial::before {content: \"\";position: absolute;border-left: 1px solid gray;box-sizing: border-box;top: 0;bottom: 0;left: 50%;z-index: 0;}#sk-container-id-1 div.sk-serial {display: flex;flex-direction: column;align-items: center;background-color: white;padding-right: 0.2em;padding-left: 0.2em;position: relative;}#sk-container-id-1 div.sk-item {position: relative;z-index: 1;}#sk-container-id-1 div.sk-parallel {display: flex;align-items: stretch;justify-content: center;background-color: white;position: relative;}#sk-container-id-1 div.sk-item::before, #sk-container-id-1 div.sk-parallel-item::before {content: \"\";position: absolute;border-left: 1px solid gray;box-sizing: border-box;top: 0;bottom: 0;left: 50%;z-index: -1;}#sk-container-id-1 div.sk-parallel-item {display: flex;flex-direction: column;z-index: 1;position: relative;background-color: white;}#sk-container-id-1 div.sk-parallel-item:first-child::after {align-self: flex-end;width: 50%;}#sk-container-id-1 div.sk-parallel-item:last-child::after {align-self: flex-start;width: 50%;}#sk-container-id-1 div.sk-parallel-item:only-child::after {width: 0;}#sk-container-id-1 div.sk-dashed-wrapped {border: 1px dashed gray;margin: 0 0.4em 0.5em 0.4em;box-sizing: border-box;padding-bottom: 0.4em;background-color: white;}#sk-container-id-1 div.sk-label label {font-family: monospace;font-weight: bold;display: inline-block;line-height: 1.2em;}#sk-container-id-1 div.sk-label-container {text-align: center;}#sk-container-id-1 div.sk-container {/* jupyter's `normalize.less` sets `[hidden] { display: none; }` but bootstrap.min.css set `[hidden] { display: none !important; }` so we also need the `!important` here to be able to override the default hidden behavior on the sphinx rendered scikit-learn.org. See: https://github.com/scikit-learn/scikit-learn/issues/21755 */display: inline-block !important;position: relative;}#sk-container-id-1 div.sk-text-repr-fallback {display: none;}</style><div id=\"sk-container-id-1\" class=\"sk-top-container\"><div class=\"sk-text-repr-fallback\"><pre>RandomForestClassifier(max_depth=5, random_state=42)</pre><b>In a Jupyter environment, please rerun this cell to show the HTML representation or trust the notebook. <br />On GitHub, the HTML representation is unable to render, please try loading this page with nbviewer.org.</b></div><div class=\"sk-container\" hidden><div class=\"sk-item\"><div class=\"sk-estimator sk-toggleable\"><input class=\"sk-toggleable__control sk-hidden--visually\" id=\"sk-estimator-id-1\" type=\"checkbox\" checked><label for=\"sk-estimator-id-1\" class=\"sk-toggleable__label sk-toggleable__label-arrow\">RandomForestClassifier</label><div class=\"sk-toggleable__content\"><pre>RandomForestClassifier(max_depth=5, random_state=42)</pre></div></div></div></div></div>"
      ],
      "text/plain": [
       "RandomForestClassifier(max_depth=5, random_state=42)"
      ]
     },
     "execution_count": 29,
     "metadata": {},
     "output_type": "execute_result"
    }
   ],
   "source": [
    "train_set = pd.read_csv('models_output/train_set_z.csv')\n",
    "\n",
    "one_messages_train = train_set[train_set[\"Class\"] == 1 ]\n",
    "zero_messages_train =train_set[train_set[\"Class\"] == 0]\n",
    "one_message_train_upsample = resample(one_messages_train,\n",
    "             replace=True,\n",
    "             n_samples=len(zero_messages_train),\n",
    "             random_state=42)\n",
    "train_set = pd.concat([one_message_train_upsample,zero_messages_train])\n",
    "x_train_set = train_set.drop(columns=[\"Class\"])\n",
    "y_train_set = train_set[\"Class\"]\n",
    "\n",
    "\n",
    "model.fit(x_train_set,y_train_set)"
   ]
  }
 ],
 "metadata": {
  "kernelspec": {
   "display_name": "Python 3.9.6 ('KD')",
   "language": "python",
   "name": "python3"
  },
  "language_info": {
   "codemirror_mode": {
    "name": "ipython",
    "version": 3
   },
   "file_extension": ".py",
   "mimetype": "text/x-python",
   "name": "python",
   "nbconvert_exporter": "python",
   "pygments_lexer": "ipython3",
   "version": "3.9.6"
  },
  "orig_nbformat": 4,
  "vscode": {
   "interpreter": {
    "hash": "17b6844c884576d61f1bf0289abab73bdbdb792e3b1d89c2945025c1065a6a78"
   }
  }
 },
 "nbformat": 4,
 "nbformat_minor": 2
}
