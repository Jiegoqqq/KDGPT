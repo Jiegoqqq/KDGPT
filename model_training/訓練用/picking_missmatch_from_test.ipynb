{
 "cells": [
  {
   "cell_type": "code",
   "execution_count": 10,
   "metadata": {},
   "outputs": [],
   "source": [
    "import pandas as pd \n",
    "import numpy as np\n",
    "from IPython.display import display \n",
    "import matplotlib.pyplot as plt\n",
    "import seaborn as sns\n",
    "import functools\n",
    "import re\n",
    "import warnings\n",
    "import json\n",
    "from cProfile import label\n",
    "import pandas as pd\n",
    "import lightgbm as lgb\n",
    "import xgboost as xgb\n",
    "from sklearn import svm\n",
    "from sklearn.ensemble import RandomForestClassifier,AdaBoostClassifier\n",
    "from sklearn.linear_model import LinearRegression\n",
    "from sklearn.neural_network import MLPClassifier\n",
    "from sklearn.linear_model import LogisticRegression\n",
    "from sklearn.metrics import confusion_matrix, roc_curve,roc_auc_score,recall_score,precision_recall_curve,auc,precision_score\n",
    "from sklearn.discriminant_analysis import LinearDiscriminantAnalysis as LDA\n",
    "from sklearn.utils import resample,shuffle\n",
    "import seaborn as sns\n",
    "import matplotlib.pyplot as plt\n",
    "import numpy as np\n",
    "import re\n",
    "from learn_curving_fold import plot_learning_curves\n",
    "from imblearn.over_sampling import RandomOverSampler\n",
    "import shap\n",
    "import time\n",
    "import copy\n",
    "import joblib "
   ]
  },
  {
   "cell_type": "code",
   "execution_count": 11,
   "metadata": {},
   "outputs": [],
   "source": [
    "#file_train = 'D:/CODE/KD/datas/KeptGPT/k-fold/30/2-fold_train_z.csv'\n",
    "file_test = 'D:/CODE/KD/datas/KeptGPT/k-fold/30/total-test_2_z.csv'"
   ]
  },
  {
   "cell_type": "code",
   "execution_count": 12,
   "metadata": {},
   "outputs": [],
   "source": [
    "def test_prc_models(\n",
    "    model =list,\n",
    "    random_state_1 = 30,\n",
    "    random_state_test = 30,\n",
    "    model_amount = 1,\n",
    "    color_origin=list,\n",
    "    file_test = list,\n",
    "    input_type = list,\n",
    "    ):\n",
    "        '''\n",
    "        model : input model list\n",
    "        color_origin: input color list (for origin)\n",
    "        color_up :input color list(for upsample)\n",
    "        input_type :for the name of your input data\n",
    "        file_train : list including path for your training data\n",
    "        file_test :list including path for your testing data \n",
    "        '''\n",
    "        for i in range(model_amount):\n",
    "                print('now in:',i+1)\n",
    "                '==============================upsampling train/origin model_1======================='\n",
    "                fold_test = pd.read_csv(file_test[i])\n",
    "                #rename(消去columns項內非英文以及數字的解)\n",
    "                fold_test = fold_test.drop(columns=['Unnamed: 0'])\n",
    "                fold_test = fold_test.rename(columns = lambda x:re.sub('[^A-Za-z0-9_]+', '', x))\n",
    "                fold_test['index'] = [i for i in range(len(fold_test)) ]\n",
    "                # set the non upsampling validation for the single fold\n",
    "                fold_test = shuffle(fold_test,random_state = random_state_test)\n",
    "                fold_test= fold_test.reset_index(drop = True)\n",
    "                x_test = fold_test.drop(columns=[\"Class\",'index'])\n",
    "                y_test = fold_test['Class']\n",
    "                test_index = fold_test['index']\n",
    "                '=============================model training=============================================================='\n",
    "                # get the tn,fp,fn,tp by confusion and therefore we can compute the specificity\n",
    "                # model_1\n",
    "                #prc_model = model[i].fit(x_train,y_train)\n",
    "                prc_model = joblib.load('D:/CODE/KD/codes/models_output/設定oversample參數型/KeptGPT/lgbm/2-model')\n",
    "                y_pred = prc_model.predict_proba(x_test)[:,1]# 注意這種寫法的意涵 取為1的機率\n",
    "                # np.savetxt(\"y_pred.txt\", np.array(y_pred))\n",
    "                # np.savetxt(\"y_test.txt\", np.array(y_test))\n",
    "                y_pred_hm = prc_model.predict(x_test)\n",
    "                precision_i , recall_i , threshold = precision_recall_curve(y_test,y_pred, pos_label=1)\n",
    "                '=======================================auc==========================================================='\n",
    "                auc_list = (auc(recall_i,precision_i))\n",
    "                plt.figure(1)\n",
    "                plt.plot(recall_i[0:len(recall_i)-15][::-1],precision_i[0:len(precision_i)-15][::-1],color = color_origin[i],linestyle='--',alpha=1)\n",
    "                plt.plot(1,1,color = color_origin[i],label='{}:'.format(input_type[i])+'%.3f'%(auc_list),linestyle='--')\n",
    "                del(auc_list,recall_i,precision_i)\n",
    "        plt.xlabel('Recall')\n",
    "        plt.ylabel('Precision')\n",
    "        plt.title('Precision Recall Curve')\n",
    "        plt.legend()\n",
    "        plt.legend(loc='lower left')\n",
    "        plt.show()\n",
    "        return (y_pred,list(test_index),y_pred_hm,list(y_test))"
   ]
  },
  {
   "cell_type": "code",
   "execution_count": 13,
   "metadata": {},
   "outputs": [
    {
     "name": "stdout",
     "output_type": "stream",
     "text": [
      "now in: 1\n"
     ]
    },
    {
     "data": {
      "image/png": "[encoded data removed]",
      "text/plain": [
       "<Figure size 432x288 with 1 Axes>"
      ]
     },
     "metadata": {
      "needs_background": "light"
     },
     "output_type": "display_data"
    }
   ],
   "source": [
    "model = lgb.LGBMClassifier(boosting = 'gbdt',learning_rate = 0.15,random_state = 42,min_data_in_leaf = 10,max_depth = 10,num_leaves = 5)\n",
    "y_pred,test_index,y_pred_hm,y_test = test_prc_models(model=[model],color_origin=['orange'],input_type=['lgbm'],file_test=[file_test])"
   ]
  },
  {
   "attachments": {},
   "cell_type": "markdown",
   "metadata": {},
   "source": [
    "##### 上面方程式的output值如下:\n",
    "1. y_pred -> 每個病例為KD的機率值\n",
    "2. test_index -> shuffle後，每筆病例對應到的原檔案index(從0開始，而非從1開始)\n",
    "3. y_pred_hm -> 每個病例為KD或FC(布林值)\n",
    "4. y_test ->　每個病例的真實情況為KD或FC(布林值)\n",
    "\n",
    "##### 後續抽選錯誤病患邏輯:\n",
    "1. 以y_pred_hm以及y_test做比對，找出不同的病例\n",
    "2. 以不同病例所在的位置查找test_index，找到原檔案中相對應的index值\n",
    "3. 從原檔案中抽取錯誤病患的特定欄位出來做劃分(這邊應該會分為KD以及FC)"
   ]
  },
  {
   "cell_type": "code",
   "execution_count": 14,
   "metadata": {},
   "outputs": [
    {
     "data": {
      "text/plain": [
       "107"
      ]
     },
     "execution_count": 14,
     "metadata": {},
     "output_type": "execute_result"
    }
   ],
   "source": [
    "count = 0\n",
    "for i in range(len(y_pred_hm)):\n",
    "    if y_pred_hm[i] != y_test[i]:\n",
    "        count += 1\n",
    "count"
   ]
  },
  {
   "cell_type": "code",
   "execution_count": 15,
   "metadata": {},
   "outputs": [],
   "source": [
    "correct_kd = []\n",
    "correct_fc = []\n",
    "wrong_kd = []\n",
    "wrong_fc = []"
   ]
  },
  {
   "cell_type": "code",
   "execution_count": 16,
   "metadata": {},
   "outputs": [
    {
     "name": "stdout",
     "output_type": "stream",
     "text": [
      "107\n"
     ]
    }
   ],
   "source": [
    "for i in range(len(y_pred_hm)):\n",
    "    if y_pred_hm[i] == y_test[i]:\n",
    "        if y_test[i] == 1:\n",
    "            correct_kd.append(test_index[i])\n",
    "        elif y_test[i] == 0:\n",
    "            correct_fc.append(test_index[i])\n",
    "    elif y_pred_hm[i] != y_test[i]:\n",
    "        if y_test[i] == 1:\n",
    "            wrong_kd.append(test_index[i])\n",
    "        elif y_test[i] == 0:\n",
    "            wrong_fc.append(test_index[i])\n",
    "print(len(wrong_fc)+len(wrong_kd))\n"
   ]
  },
  {
   "cell_type": "code",
   "execution_count": 17,
   "metadata": {},
   "outputs": [
    {
     "name": "stdout",
     "output_type": "stream",
     "text": [
      "102\n"
     ]
    }
   ],
   "source": [
    "print(len(wrong_fc))"
   ]
  },
  {
   "cell_type": "code",
   "execution_count": 18,
   "metadata": {},
   "outputs": [
    {
     "name": "stdout",
     "output_type": "stream",
     "text": [
      "5\n"
     ]
    }
   ],
   "source": [
    "print(len(wrong_kd))"
   ]
  },
  {
   "attachments": {},
   "cell_type": "markdown",
   "metadata": {},
   "source": [
    "### eosinophil count"
   ]
  },
  {
   "cell_type": "code",
   "execution_count": 19,
   "metadata": {},
   "outputs": [],
   "source": [
    "file_test_origin = 'D:/CODE/KD/datas/KeptGPT/k-fold/30/total-test.csv'"
   ]
  },
  {
   "cell_type": "code",
   "execution_count": 20,
   "metadata": {},
   "outputs": [],
   "source": [
    "correct_kd_eosinophil_count = []\n",
    "correct_fc_eosinophil_count = []\n",
    "wrong_fc_eosinophil_count = []\n",
    "wrong_kd_eosinophil_count = []"
   ]
  },
  {
   "cell_type": "code",
   "execution_count": 21,
   "metadata": {},
   "outputs": [],
   "source": [
    "file_test_df = pd.read_csv(file_test_origin)"
   ]
  },
  {
   "cell_type": "code",
   "execution_count": 22,
   "metadata": {},
   "outputs": [],
   "source": [
    "for index in wrong_fc:\n",
    "    wrong_fc_eosinophil_count.append(file_test_df.iloc[int(index)]['eosinophilpcountp'])\n",
    "for index in wrong_kd:\n",
    "    wrong_kd_eosinophil_count.append(file_test_df.iloc[int(index)]['eosinophilpcountp'])\n",
    "for index in correct_kd:\n",
    "    correct_kd_eosinophil_count.append(file_test_df.iloc[int(index)]['eosinophilpcountp'])\n",
    "for index in correct_fc:\n",
    "    correct_fc_eosinophil_count.append(file_test_df.iloc[int(index)]['eosinophilpcountp'])"
   ]
  },
  {
   "cell_type": "code",
   "execution_count": 23,
   "metadata": {},
   "outputs": [
    {
     "data": {
      "image/png": "[encoded data removed]",
      "text/plain": [
       "<Figure size 432x288 with 1 Axes>"
      ]
     },
     "metadata": {
      "needs_background": "light"
     },
     "output_type": "display_data"
    }
   ],
   "source": [
    "data = [[float(x) for x in wrong_fc_eosinophil_count],[float(x) for x in wrong_kd_eosinophil_count]]\n",
    "plt.figure(1)\n",
    "plt.title('eosinophil count(predict wrong)')\n",
    "plt.boxplot(data,patch_artist = True,showfliers=True,whis = [0,100])\n",
    "plt.xticks([1, 2], ['fc', 'kd'])\n",
    "plt.show()"
   ]
  },
  {
   "cell_type": "code",
   "execution_count": 24,
   "metadata": {},
   "outputs": [
    {
     "data": {
      "image/png": "[encoded data removed]",
      "text/plain": [
       "<Figure size 432x288 with 1 Axes>"
      ]
     },
     "metadata": {
      "needs_background": "light"
     },
     "output_type": "display_data"
    }
   ],
   "source": [
    "data = [[float(x) for x in correct_fc_eosinophil_count],[float(x) for x in correct_kd_eosinophil_count]]\n",
    "plt.figure(1)\n",
    "plt.title('eosinophil count(predict correct)')\n",
    "plt.boxplot(data,patch_artist = True,showfliers=True,whis = [0,100])\n",
    "plt.xticks([1, 2], ['fc', 'kd'])\n",
    "plt.show()"
   ]
  },
  {
   "attachments": {},
   "cell_type": "markdown",
   "metadata": {},
   "source": [
    "### eosinophil %"
   ]
  },
  {
   "cell_type": "code",
   "execution_count": 25,
   "metadata": {},
   "outputs": [],
   "source": [
    "wrong_fc_eosinophil_per = []\n",
    "wrong_kd_eosinophil_per = []\n",
    "\n",
    "correct_fc_eosinophil_per = []\n",
    "correct_kd_eosinophil_per = []\n",
    "\n",
    "file_test_df = pd.read_csv(file_test_origin)\n",
    "for index in wrong_fc:\n",
    "    wrong_fc_eosinophil_per.append(file_test_df.iloc[int(index)]['eosinophilp'])\n",
    "for index in wrong_kd:\n",
    "    wrong_kd_eosinophil_per.append(file_test_df.iloc[int(index)]['eosinophilp'])\n",
    "\n",
    "for index in correct_fc:\n",
    "    correct_fc_eosinophil_per.append(file_test_df.iloc[int(index)]['eosinophilp'])\n",
    "for index in correct_kd:\n",
    "    correct_kd_eosinophil_per.append(file_test_df.iloc[int(index)]['eosinophilp'])\n",
    "\n",
    "    "
   ]
  },
  {
   "cell_type": "code",
   "execution_count": 26,
   "metadata": {},
   "outputs": [
    {
     "data": {
      "image/png": "[encoded data removed]",
      "text/plain": [
       "<Figure size 432x288 with 1 Axes>"
      ]
     },
     "metadata": {
      "needs_background": "light"
     },
     "output_type": "display_data"
    }
   ],
   "source": [
    "data = [[float(x) for x in wrong_fc_eosinophil_per],[float(x) for x in wrong_kd_eosinophil_per]]\n",
    "plt.figure(1)\n",
    "plt.title('eosinophil %(predict wrong)')\n",
    "plt.boxplot(data,patch_artist = True,showfliers=True,whis = [0,100])\n",
    "plt.xticks([1, 2], ['fc', 'kd'])\n",
    "plt.show()"
   ]
  },
  {
   "cell_type": "code",
   "execution_count": 27,
   "metadata": {},
   "outputs": [
    {
     "data": {
      "image/png": "[encoded data removed]",
      "text/plain": [
       "<Figure size 432x288 with 1 Axes>"
      ]
     },
     "metadata": {
      "needs_background": "light"
     },
     "output_type": "display_data"
    }
   ],
   "source": [
    "data = [[float(x) for x in correct_fc_eosinophil_per],[float(x) for x in correct_kd_eosinophil_per]]\n",
    "plt.figure(1)\n",
    "plt.title('eosinophil %(predict correct)')\n",
    "plt.boxplot(data,patch_artist = True,showfliers=True,whis = [0,100])\n",
    "plt.xticks([1, 2], ['fc', 'kd'])\n",
    "plt.show()"
   ]
  },
  {
   "attachments": {},
   "cell_type": "markdown",
   "metadata": {},
   "source": [
    "### eosinophil z score"
   ]
  },
  {
   "cell_type": "code",
   "execution_count": 28,
   "metadata": {},
   "outputs": [],
   "source": [
    "wrong_fc_eosinophil_z = []\n",
    "wrong_kd_eosinophil_z = []\n",
    "\n",
    "correct_fc_eosinophil_z = []\n",
    "correct_kd_eosinophil_z = []\n",
    "\n",
    "file_test_df = pd.read_csv(file_test_origin)\n",
    "for index in wrong_fc:\n",
    "    wrong_fc_eosinophil_z.append(file_test_df.iloc[int(index)]['EOSpzpscore'])\n",
    "for index in wrong_kd:\n",
    "    wrong_kd_eosinophil_z.append(file_test_df.iloc[int(index)]['EOSpzpscore'])\n",
    "\n",
    "for index in correct_fc:\n",
    "    correct_fc_eosinophil_z.append(file_test_df.iloc[int(index)]['EOSpzpscore'])\n",
    "for index in correct_kd:\n",
    "    correct_kd_eosinophil_z.append(file_test_df.iloc[int(index)]['EOSpzpscore'])"
   ]
  },
  {
   "cell_type": "code",
   "execution_count": 29,
   "metadata": {},
   "outputs": [
    {
     "data": {
      "image/png": "[encoded data removed]",
      "text/plain": [
       "<Figure size 432x288 with 1 Axes>"
      ]
     },
     "metadata": {
      "needs_background": "light"
     },
     "output_type": "display_data"
    }
   ],
   "source": [
    "data = [[float(x) for x in wrong_fc_eosinophil_z],[float(x) for x in wrong_kd_eosinophil_z]]\n",
    "plt.figure(1)\n",
    "plt.title('eosinophil z score(predict wrong)')\n",
    "plt.boxplot(data,patch_artist = True,showfliers=True,whis = [0,100])\n",
    "plt.xticks([1, 2], ['fc', 'kd'])\n",
    "plt.show()"
   ]
  },
  {
   "cell_type": "code",
   "execution_count": 30,
   "metadata": {},
   "outputs": [
    {
     "data": {
      "image/png": "[encoded data removed]",
      "text/plain": [
       "<Figure size 432x288 with 1 Axes>"
      ]
     },
     "metadata": {
      "needs_background": "light"
     },
     "output_type": "display_data"
    }
   ],
   "source": [
    "data = [[float(x) for x in correct_fc_eosinophil_z],[float(x) for x in correct_kd_eosinophil_z]]\n",
    "plt.figure(1)\n",
    "plt.title('eosinophil z score(predict correct)')\n",
    "plt.boxplot(data,patch_artist = True,showfliers=True,whis = [0,100])\n",
    "plt.xticks([1, 2], ['fc', 'kd'])\n",
    "plt.show()"
   ]
  },
  {
   "attachments": {},
   "cell_type": "markdown",
   "metadata": {},
   "source": [
    "### CRP"
   ]
  },
  {
   "cell_type": "code",
   "execution_count": 31,
   "metadata": {},
   "outputs": [],
   "source": [
    "wrong_fc_crp = []\n",
    "wrong_kd_crp = []\n",
    "\n",
    "correct_fc_crp = []\n",
    "correct_kd_crp = []\n",
    "\n",
    "file_test_df = pd.read_csv(file_test_origin)\n",
    "for index in wrong_fc:\n",
    "    wrong_fc_crp.append(file_test_df.iloc[int(index)]['CRP'])\n",
    "for index in wrong_kd:\n",
    "    wrong_kd_crp.append(file_test_df.iloc[int(index)]['CRP'])\n",
    "\n",
    "for index in correct_fc:\n",
    "    correct_fc_crp.append(file_test_df.iloc[int(index)]['CRP'])\n",
    "for index in correct_kd:\n",
    "    correct_kd_crp.append(file_test_df.iloc[int(index)]['CRP'])"
   ]
  },
  {
   "cell_type": "code",
   "execution_count": 32,
   "metadata": {},
   "outputs": [
    {
     "data": {
      "image/png": "[encoded data removed]",
      "text/plain": [
       "<Figure size 432x288 with 1 Axes>"
      ]
     },
     "metadata": {
      "needs_background": "light"
     },
     "output_type": "display_data"
    }
   ],
   "source": [
    "data = [[float(x) for x in wrong_fc_crp],[float(x) for x in wrong_kd_crp]]\n",
    "plt.figure(1)\n",
    "plt.title('CRP (predict wrong)')\n",
    "plt.boxplot(data,patch_artist = True,showfliers=True,whis = [0,100])\n",
    "plt.xticks([1, 2], ['fc', 'kd'])\n",
    "plt.show()"
   ]
  },
  {
   "cell_type": "code",
   "execution_count": 33,
   "metadata": {},
   "outputs": [
    {
     "data": {
      "image/png": "[encoded data removed]",
      "text/plain": [
       "<Figure size 432x288 with 1 Axes>"
      ]
     },
     "metadata": {
      "needs_background": "light"
     },
     "output_type": "display_data"
    }
   ],
   "source": [
    "data = [[float(x) for x in correct_fc_crp],[float(x) for x in correct_kd_crp]]\n",
    "plt.figure(1)\n",
    "plt.title('CRP (predict correct)')\n",
    "plt.boxplot(data,patch_artist = True,showfliers=True,whis = [0,100])\n",
    "plt.xticks([1, 2], ['fc', 'kd'])\n",
    "plt.show()"
   ]
  },
  {
   "attachments": {},
   "cell_type": "markdown",
   "metadata": {},
   "source": [
    "### ALT/GPT"
   ]
  },
  {
   "cell_type": "code",
   "execution_count": 34,
   "metadata": {},
   "outputs": [],
   "source": [
    "wrong_fc_alt = []\n",
    "wrong_kd_alt = []\n",
    "\n",
    "correct_fc_alt = []\n",
    "correct_kd_alt = []\n",
    "\n",
    "file_test_df = pd.read_csv(file_test_origin)\n",
    "\n",
    "file_test_df = file_test_df.astype({'{}'.format('ALTpGPT'):'str'})#為了下一步，要先將所有資料轉成str\n",
    "file_test_df['{}'.format('ALTpGPT')] = file_test_df['{}'.format('ALTpGPT')].str.extract('(-*\\d+\\.*\\d*)',expand = False)#內部的非數值str都remove\n",
    "file_test_df = file_test_df.astype({'{}'.format('ALTpGPT'):'float'})#移除掉非數值str後將其轉回float\n",
    "\n",
    "for index in wrong_fc:\n",
    "    wrong_fc_alt.append(file_test_df.iloc[int(index)]['ALTpGPT'])\n",
    "for index in wrong_kd:\n",
    "    wrong_kd_alt.append(file_test_df.iloc[int(index)]['ALTpGPT'])\n",
    "\n",
    "for index in correct_fc:\n",
    "    correct_fc_alt.append(file_test_df.iloc[int(index)]['ALTpGPT'])\n",
    "for index in correct_kd:\n",
    "    correct_kd_alt.append(file_test_df.iloc[int(index)]['ALTpGPT'])"
   ]
  },
  {
   "cell_type": "code",
   "execution_count": 35,
   "metadata": {},
   "outputs": [
    {
     "data": {
      "image/png": "[encoded data removed]",
      "text/plain": [
       "<Figure size 432x288 with 1 Axes>"
      ]
     },
     "metadata": {
      "needs_background": "light"
     },
     "output_type": "display_data"
    }
   ],
   "source": [
    "data = [[float(x) for x in wrong_fc_alt],[float(x) for x in wrong_kd_alt]]\n",
    "plt.figure(1)\n",
    "plt.title('ALT/GPT (predict wrong)')\n",
    "plt.boxplot(data,patch_artist = True,showfliers=True,whis = [0,100])\n",
    "plt.xticks([1, 2], ['fc', 'kd'])\n",
    "plt.show()"
   ]
  },
  {
   "cell_type": "code",
   "execution_count": 36,
   "metadata": {},
   "outputs": [
    {
     "data": {
      "image/png": "[encoded data removed]",
      "text/plain": [
       "<Figure size 432x288 with 1 Axes>"
      ]
     },
     "metadata": {
      "needs_background": "light"
     },
     "output_type": "display_data"
    }
   ],
   "source": [
    "data = [[float(x) for x in correct_fc_alt],[float(x) for x in correct_kd_alt]]\n",
    "plt.figure(1)\n",
    "plt.title('ALT/GPT (predict correct)')\n",
    "plt.boxplot(data,patch_artist = True,showfliers=True,whis = [0,100])\n",
    "plt.xticks([1, 2], ['fc', 'kd'])\n",
    "plt.show()"
   ]
  },
  {
   "cell_type": "code",
   "execution_count": 37,
   "metadata": {},
   "outputs": [],
   "source": [
    "predict_wrong_df_fc = pd.DataFrame()\n",
    "predict_wrong_df_kd = pd.DataFrame()\n",
    "predict_wrong_df_fc['EosinophilCount'] = [float(x) for x in wrong_fc_eosinophil_count]\n",
    "predict_wrong_df_kd['EosinophilCount'] = [float(x) for x in wrong_kd_eosinophil_count]\n",
    "\n",
    "predict_wrong_df_fc['EosinophilPer'] = [float(x) for x in wrong_fc_eosinophil_per]\n",
    "predict_wrong_df_kd['EosinophilPer'] = [float(x) for x in wrong_kd_eosinophil_per]\n",
    "\n",
    "predict_wrong_df_fc['EosinophilZScore'] = [float(x) for x in wrong_fc_eosinophil_z]\n",
    "predict_wrong_df_kd['EosinophilZScore'] = [float(x) for x in wrong_kd_eosinophil_z]\n",
    "\n",
    "\n",
    "predict_wrong_df_fc['ALT'] = [float(x) for x in wrong_fc_alt]\n",
    "predict_wrong_df_kd['ALT'] = [float(x) for x in wrong_kd_alt]\n",
    "\n",
    "\n",
    "predict_wrong_df_fc['CRP'] = [float(x) for x in wrong_fc_crp]\n",
    "predict_wrong_df_kd['CRP'] = [float(x) for x in wrong_kd_crp]\n",
    "\n"
   ]
  },
  {
   "cell_type": "code",
   "execution_count": 38,
   "metadata": {},
   "outputs": [
    {
     "data": {
      "text/html": [
       "<div>\n",
       "<style scoped>\n",
       "    .dataframe tbody tr th:only-of-type {\n",
       "        vertical-align: middle;\n",
       "    }\n",
       "\n",
       "    .dataframe tbody tr th {\n",
       "        vertical-align: top;\n",
       "    }\n",
       "\n",
       "    .dataframe thead th {\n",
       "        text-align: right;\n",
       "    }\n",
       "</style>\n",
       "<table border=\"1\" class=\"dataframe\">\n",
       "  <thead>\n",
       "    <tr style=\"text-align: right;\">\n",
       "      <th></th>\n",
       "      <th>EosinophilCount</th>\n",
       "      <th>EosinophilPer</th>\n",
       "      <th>EosinophilZScore</th>\n",
       "      <th>ALT</th>\n",
       "      <th>CRP</th>\n",
       "    </tr>\n",
       "  </thead>\n",
       "  <tbody>\n",
       "    <tr>\n",
       "      <th>0</th>\n",
       "      <td>0.0</td>\n",
       "      <td>0.0</td>\n",
       "      <td>-0.610566</td>\n",
       "      <td>31.0</td>\n",
       "      <td>1.400</td>\n",
       "    </tr>\n",
       "    <tr>\n",
       "      <th>1</th>\n",
       "      <td>7.5</td>\n",
       "      <td>0.1</td>\n",
       "      <td>-0.592335</td>\n",
       "      <td>14.0</td>\n",
       "      <td>9.400</td>\n",
       "    </tr>\n",
       "    <tr>\n",
       "      <th>2</th>\n",
       "      <td>0.0</td>\n",
       "      <td>0.0</td>\n",
       "      <td>-0.610566</td>\n",
       "      <td>12.0</td>\n",
       "      <td>30.860</td>\n",
       "    </tr>\n",
       "    <tr>\n",
       "      <th>3</th>\n",
       "      <td>0.0</td>\n",
       "      <td>0.0</td>\n",
       "      <td>-0.610566</td>\n",
       "      <td>38.0</td>\n",
       "      <td>3.250</td>\n",
       "    </tr>\n",
       "    <tr>\n",
       "      <th>4</th>\n",
       "      <td>0.0</td>\n",
       "      <td>0.0</td>\n",
       "      <td>-0.658690</td>\n",
       "      <td>14.0</td>\n",
       "      <td>149.876</td>\n",
       "    </tr>\n",
       "  </tbody>\n",
       "</table>\n",
       "</div>"
      ],
      "text/plain": [
       "   EosinophilCount  EosinophilPer  EosinophilZScore   ALT      CRP\n",
       "0              0.0            0.0         -0.610566  31.0    1.400\n",
       "1              7.5            0.1         -0.592335  14.0    9.400\n",
       "2              0.0            0.0         -0.610566  12.0   30.860\n",
       "3              0.0            0.0         -0.610566  38.0    3.250\n",
       "4              0.0            0.0         -0.658690  14.0  149.876"
      ]
     },
     "execution_count": 38,
     "metadata": {},
     "output_type": "execute_result"
    }
   ],
   "source": [
    "predict_wrong_df_kd"
   ]
  },
  {
   "cell_type": "code",
   "execution_count": 39,
   "metadata": {},
   "outputs": [],
   "source": [
    "predict_correct_df_fc = pd.DataFrame()\n",
    "predict_correct_df_kd = pd.DataFrame()\n",
    "predict_correct_df_fc['EosinophilCount'] = [float(x) for x in correct_fc_eosinophil_count]\n",
    "predict_correct_df_kd['EosinophilCount'] = [float(x) for x in correct_kd_eosinophil_count]\n",
    "\n",
    "predict_correct_df_fc['EosinophilPer'] = [float(x) for x in correct_fc_eosinophil_per]\n",
    "predict_correct_df_kd['EosinophilPer'] = [float(x) for x in correct_kd_eosinophil_per]\n",
    "\n",
    "predict_correct_df_fc['EosinophilZScore'] = [float(x) for x in correct_fc_eosinophil_z]\n",
    "predict_correct_df_kd['EosinophilZScore'] = [float(x) for x in correct_kd_eosinophil_z]\n",
    "\n",
    "\n",
    "predict_correct_df_fc['ALT'] = [float(x) for x in correct_fc_alt]\n",
    "predict_correct_df_kd['ALT'] = [float(x) for x in correct_kd_alt]\n",
    "\n",
    "\n",
    "predict_correct_df_fc['CRP'] = [float(x) for x in correct_fc_crp]\n",
    "predict_correct_df_kd['CRP'] = [float(x) for x in correct_kd_crp]"
   ]
  },
  {
   "cell_type": "code",
   "execution_count": 40,
   "metadata": {},
   "outputs": [
    {
     "name": "stdout",
     "output_type": "stream",
     "text": [
      "     EosinophilCount  EosinophilPer  EosinophilZScore    ALT     CRP\n",
      "0             1140.0           12.0          7.846933   26.0    8.80\n",
      "1              273.0            3.0          1.503809   45.0   49.40\n",
      "2              276.0            3.0          1.503809   16.0   16.40\n",
      "3              362.7            3.9          1.929187   10.0   61.30\n",
      "4               90.0            3.0          1.503809   15.0    1.24\n",
      "..               ...            ...               ...    ...     ...\n",
      "163            266.0            2.0          0.668426   18.0    3.30\n",
      "164            328.0            2.0          0.236490   12.0  253.10\n",
      "165             37.6            0.4         -0.328649   15.0   43.60\n",
      "166            300.0            4.0          2.208600   13.0   24.90\n",
      "167            160.6            2.2          0.939976  201.0   79.35\n",
      "\n",
      "[168 rows x 5 columns]\n"
     ]
    }
   ],
   "source": [
    "print(predict_correct_df_kd)"
   ]
  },
  {
   "cell_type": "code",
   "execution_count": 41,
   "metadata": {},
   "outputs": [
    {
     "name": "stdout",
     "output_type": "stream",
     "text": [
      "[1140.0, 272.99999999999994, 275.99999999999994, 362.7000000000001, 90.0, 945.0, 587.4, 615.0000000000001, 174.0, 116.0] [12.0, 3.0, 3.0, 3.9, 3.0, 7.0, 6.6, 5.0, 2.0, 1.0] [7.8469325457395165, 1.503808977515878, 1.503808977515878, 1.9291874567563447, 1.503808977515878, 4.322975007837496, 3.645767648694541, 2.9133919926766865, 0.7990174699354737, -0.2706188098892825] [26.0, 45.0, 16.0, 10.0, 15.0, 70.0, 18.0, 41.0, 135.0, 34.0] [8.8, 49.4, 16.4, 61.3, 1.24, 99.95, 58.3, 38.91, 72.37, 100.41]\n",
      "   EosinophilCount  EosinophilPer  EosinophilZScore    ALT     CRP\n",
      "0           1140.0           12.0          7.846933   26.0    8.80\n",
      "1            273.0            3.0          1.503809   45.0   49.40\n",
      "2            276.0            3.0          1.503809   16.0   16.40\n",
      "3            362.7            3.9          1.929187   10.0   61.30\n",
      "4             90.0            3.0          1.503809   15.0    1.24\n",
      "5            945.0            7.0          4.322975   70.0   99.95\n",
      "6            587.4            6.6          3.645768   18.0   58.30\n",
      "7            615.0            5.0          2.913392   41.0   38.91\n",
      "8            174.0            2.0          0.799017  135.0   72.37\n",
      "9            116.0            1.0         -0.270619   34.0  100.41\n"
     ]
    }
   ],
   "source": [
    "print(correct_kd_eosinophil_count[0:10],correct_kd_eosinophil_per[0:10],correct_kd_eosinophil_z[0:10],correct_kd_alt[0:10],correct_kd_crp[0:10])\n",
    "print(predict_correct_df_kd.head(10))"
   ]
  },
  {
   "cell_type": "code",
   "execution_count": 42,
   "metadata": {},
   "outputs": [],
   "source": [
    "predict_wrong_df_fc.to_csv('D:/CODE/KD/codes/models_output/boxplot/predict_wrong_fc.csv')\n",
    "predict_wrong_df_kd.to_csv('D:/CODE/KD/codes/models_output/boxplot/predict_wrong_kd.csv')\n",
    "predict_correct_df_fc.to_csv('D:/CODE/KD/codes/models_output/boxplot/predict_correct_fc.csv')\n",
    "predict_correct_df_kd.to_csv('D:/CODE/KD/codes/models_output/boxplot/predict_correct_kd.csv')\n",
    "\n"
   ]
  }
 ],
 "metadata": {
  "kernelspec": {
   "display_name": "kdenv",
   "language": "python",
   "name": "python3"
  },
  "language_info": {
   "codemirror_mode": {
    "name": "ipython",
    "version": 3
   },
   "file_extension": ".py",
   "mimetype": "text/x-python",
   "name": "python",
   "nbconvert_exporter": "python",
   "pygments_lexer": "ipython3",
   "version": "3.10.9"
  },
  "orig_nbformat": 4,
  "vscode": {
   "interpreter": {
    "hash": "de69688b3fb96d3255599b867760f936319cc4593a9b5bed4b8ee9646c104752"
   }
  }
 },
 "nbformat": 4,
 "nbformat_minor": 2
}
